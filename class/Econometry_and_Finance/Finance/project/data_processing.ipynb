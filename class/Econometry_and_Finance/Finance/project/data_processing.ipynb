{
 "cells": [
  {
   "cell_type": "code",
   "execution_count": 1,
   "metadata": {},
   "outputs": [
    {
     "name": "stdout",
     "output_type": "stream",
     "text": [
      "CSV files created successfully in the 'data' folder!\n"
     ]
    }
   ],
   "source": [
    "import os\n",
    "import pandas as pd\n",
    "import ast\n",
    "\n",
    "# Read the original CSV file\n",
    "input_csv = 'player_market_values.csv'  # Replace with your file name\n",
    "df = pd.read_csv(input_csv)\n",
    "\n",
    "# Create a new folder to store the CSV files\n",
    "output_folder = 'data'\n",
    "os.makedirs(output_folder, exist_ok=True)\n",
    "\n",
    "# Process each row in the DataFrame\n",
    "for _, row in df.iterrows():\n",
    "    player_name = row['Name']\n",
    "    market_values = ast.literal_eval(row['Market Values (₹ Cr)'])  # Convert string list to a Python list\n",
    "    \n",
    "    # Create a new DataFrame for the player\n",
    "    player_df = pd.DataFrame({\n",
    "        'game': range(1, len(market_values) + 1),\n",
    "        'market value': market_values\n",
    "    })\n",
    "    \n",
    "    # Save the new CSV file in the 'data' folder\n",
    "    output_file = os.path.join(output_folder, f\"{player_name}.csv\")\n",
    "    player_df.to_csv(output_file, index=False)\n",
    "\n",
    "print(f\"CSV files created successfully in the '{output_folder}' folder!\")\n"
   ]
  },
  {
   "cell_type": "code",
   "execution_count": 2,
   "metadata": {},
   "outputs": [
    {
     "name": "stdout",
     "output_type": "stream",
     "text": [
      "Return CSV files created successfully in the 'return' folder!\n"
     ]
    }
   ],
   "source": [
    "import os\n",
    "import pandas as pd\n",
    "\n",
    "# Set up input and output directories\n",
    "input_folder = 'data'\n",
    "output_folder = 'return'\n",
    "os.makedirs(output_folder, exist_ok=True)\n",
    "\n",
    "# Process each CSV file in the 'data' folder\n",
    "for filename in os.listdir(input_folder):\n",
    "    if filename.endswith('.csv'):  # Only process CSV files\n",
    "        input_file = os.path.join(input_folder, filename)\n",
    "        \n",
    "        # Read the player's data CSV\n",
    "        df = pd.read_csv(input_file)\n",
    "        \n",
    "        # Calculate returns\n",
    "        df['return'] = df['market value'].pct_change()\n",
    "        \n",
    "        # Create the new DataFrame with game and return\n",
    "        return_df = df[['game', 'return']].dropna()  # Drop NaN for the first game\n",
    "        \n",
    "        # Save the new CSV file in the 'return' folder\n",
    "        output_file = os.path.join(output_folder, filename)\n",
    "        return_df.to_csv(output_file, index=False)\n",
    "\n",
    "print(f\"Return CSV files created successfully in the '{output_folder}' folder!\")\n"
   ]
  },
  {
   "cell_type": "code",
   "execution_count": 4,
   "metadata": {},
   "outputs": [
    {
     "name": "stdout",
     "output_type": "stream",
     "text": [
      "Consolidated CSV file created successfully: consolidated_returns.csv\n"
     ]
    }
   ],
   "source": [
    "import os\n",
    "import pandas as pd\n",
    "\n",
    "# Input folder containing return CSV files\n",
    "input_folder = 'return'\n",
    "output_file = 'consolidated_returns.csv'\n",
    "\n",
    "# Initialize an empty dictionary to store data\n",
    "data = {'game': None}  # Start with the 'game' column\n",
    "\n",
    "# Process each CSV file in the 'return' folder\n",
    "for filename in os.listdir(input_folder):\n",
    "    if filename.endswith('.csv'):  # Only process CSV files\n",
    "        player_name = filename.replace('.csv', '')  # Extract player name from filename\n",
    "        file_path = os.path.join(input_folder, filename)\n",
    "        \n",
    "        # Read the return CSV\n",
    "        df = pd.read_csv(file_path)\n",
    "        \n",
    "        # Set the 'game' column as the index if not already done\n",
    "        if data['game'] is None:\n",
    "            data['game'] = df['game']\n",
    "        \n",
    "        # Add the player's return column\n",
    "        data[player_name] = df['return']\n",
    "\n",
    "# Create a DataFrame from the collected data\n",
    "consolidated_df = pd.DataFrame(data)\n",
    "\n",
    "# Save the consolidated CSV\n",
    "consolidated_df.to_csv(output_file, index=False)\n",
    "\n",
    "print(f\"Consolidated CSV file created successfully: {output_file}\")\n"
   ]
  },
  {
   "cell_type": "code",
   "execution_count": null,
   "metadata": {},
   "outputs": [
    {
     "name": "stdout",
     "output_type": "stream",
     "text": [
      "JSON file created successfully: structured_returns.json\n"
     ]
    }
   ],
   "source": [
    "import pandas as pd\n",
    "import json\n",
    "\n",
    "# Input and output file paths\n",
    "input_csv = 'consolidated_returns.csv'\n",
    "output_json = 'structured_returns.json' \n",
    "\n",
    "# Read the consolidated CSV file\n",
    "df = pd.read_csv(input_csv)\n",
    "\n",
    "# Initialize the list to hold the structured data\n",
    "structured_data = []\n",
    "\n",
    "# Iterate through each player column (excluding 'game')\n",
    "for idx, player_name in enumerate(df.columns[1:], start=1):\n",
    "    entry = {\n",
    "        \"id\": idx,\n",
    "        player_name: df[player_name].fillna(0).tolist()  # Fill NaN with 0 and convert to list\n",
    "    }\n",
    "    structured_data.append(entry)\n",
    "\n",
    "# Save the structured data to JSON\n",
    "with open(output_json, 'w') as f:\n",
    "    json.dump(structured_data, f, indent=4)\n",
    "\n",
    "print(f\"JSON file created successfully: {output_json}\")\n"
   ]
  },
  {
   "cell_type": "code",
   "execution_count": null,
   "metadata": {},
   "outputs": [],
   "source": []
  },
  {
   "cell_type": "code",
   "execution_count": null,
   "metadata": {},
   "outputs": [],
   "source": []
  },
  {
   "cell_type": "code",
   "execution_count": null,
   "metadata": {},
   "outputs": [],
   "source": []
  },
  {
   "cell_type": "code",
   "execution_count": null,
   "metadata": {},
   "outputs": [
    {
     "name": "stdout",
     "output_type": "stream",
     "text": [
      "[[-0.125      -0.1        -0.15384615 -0.11111111  0.16666667]\n",
      " [-0.14285714 -0.05555556 -0.09090909  0.          0.28571429]\n",
      " [-0.16666667  0.         -0.2         0.          0.11111111]\n",
      " [-0.2         0.         -0.1875      0.          0.2       ]\n",
      " [-0.25       -0.11764706 -0.15384615  0.          0.33333333]\n",
      " [-0.33333333  0.         -0.30909091  0.          0.25      ]\n",
      " [-0.2        -0.13333333 -0.36842105  0.125       0.1       ]\n",
      " [-0.25       -0.23076923 -0.375       0.11111111  0.01818182]\n",
      " [-0.33333333 -0.2        -0.93333333  0.          0.25      ]]\n",
      "Dimensions of data matrix: (9, 5)\n",
      "Variance-Covariance Matrix:\n",
      " [[ 0.00575743  0.00183692  0.01334168 -0.00138682 -0.00167176]\n",
      " [ 0.00183692  0.00750771  0.0128722  -0.00244592  0.00253366]\n",
      " [ 0.01334168  0.0128722   0.06500278 -0.00401575  0.0014158 ]\n",
      " [-0.00138682 -0.00244592 -0.00401575  0.00482253 -0.00347723]\n",
      " [-0.00167176  0.00253366  0.0014158  -0.00347723  0.01017403]]\n",
      "Dimensions of Covariance Matrix: (5, 5)\n",
      "Mean Vector:\n",
      " [-0.2223545  -0.09303391 -0.30799408  0.01388889  0.19055636]\n",
      "Length of Mean Vector: 5\n",
      "Optimal Weights: [2.58373716e-01 8.59011217e-02 5.58792509e-07 4.23925705e-01\n",
      " 2.31798898e-01]\n"
     ]
    }
   ],
   "source": [
    "import pandas as pd\n",
    "import numpy as np\n",
    "import matplotlib.pyplot as plt\n",
    "\n",
    "import numpy as np\n",
    "from cvxopt import matrix, solvers\n",
    "\n",
    "# # Load the consolidated returns CSV\n",
    "# df = pd.read_csv('consolidated_returns.csv')\n",
    "\n",
    "# # Input array of column indices (e.g., 2, 3, 5, 6, 10)\n",
    "# input_columns = [6, 8, 10, 14, 15]\n",
    "\n",
    "# Select relevant columns (ignoring the 'game' column)\n",
    "data_matrix = df.iloc[:, input_columns].to_numpy()\n",
    "\n",
    "print(data_matrix)\n",
    "# 1. Dimensions of the data matrix\n",
    "print(\"Dimensions of data matrix:\", data_matrix.shape)\n",
    "\n",
    "# 2. Variance-covariance matrix\n",
    "cov_matrix = np.cov(data_matrix, rowvar=False)\n",
    "print(\"Variance-Covariance Matrix:\\n\", cov_matrix)\n",
    "print(\"Dimensions of Covariance Matrix:\", cov_matrix.shape)\n",
    "\n",
    "# 3. Mean vector\n",
    "mean_vector = np.mean(data_matrix, axis=0)\n",
    "print(\"Mean Vector:\\n\", mean_vector)\n",
    "print(\"Length of Mean Vector:\", len(mean_vector))\n",
    "\n",
    "# 4. Unbounded closed-form solution\n",
    "one_vector = np.ones(len(mean_vector))\n",
    "\n",
    "# Inverse of covariance matrix\n",
    "inv_cov_matrix = np.linalg.inv(cov_matrix)\n",
    "\n",
    "# Define constraints\n",
    "num_assets = cov_matrix.shape[0]\n",
    "\n",
    "# Dmat: Quadratic term (2 * covariance matrix)\n",
    "Dmat = 2 * cov_matrix\n",
    "\n",
    "# dvec: Linear term (set to 0 as there is no linear term in the objective function)\n",
    "dvec = np.zeros(num_assets)\n",
    "\n",
    "# Equality constraint: sum(weights) = 1\n",
    "A = np.ones((1, num_assets))  # 1 x num_assets matrix for equality constraint\n",
    "b = np.array([1.0])  # RHS for equality: sum(weights) = 1\n",
    "\n",
    "# Inequality constraint: weights >= 0\n",
    "G = -np.eye(num_assets)  # Negative identity matrix for weights >= 0\n",
    "h = np.zeros(num_assets)  # RHS for weights >= 0\n",
    "\n",
    "# Convert inputs to cvxopt format\n",
    "Dmat = matrix(Dmat)\n",
    "dvec = matrix(dvec)\n",
    "G = matrix(G)\n",
    "h = matrix(h)\n",
    "A = matrix(A)\n",
    "b = matrix(b)\n",
    "\n",
    "# Solve quadratic programming problem\n",
    "solution = solvers.qp(Dmat, dvec, G, h, A, b)  # A and b are equality constraints\n",
    "\n",
    "# Extract the solution\n",
    "weights = np.array(solution['x']).flatten()\n",
    "\n",
    "# Print the optimal weights\n",
    "print(\"Optimal Weights:\", weights)"
   ]
  },
  {
   "cell_type": "code",
   "execution_count": 29,
   "metadata": {},
   "outputs": [],
   "source": [
    "# weights = [3.01595859e-01, 3.70545065e-03, 2.03965186e-07, 4.28635222e-01, 2.66063265e-01]\n",
    "\n",
    "# Now `numbers` is a Python list containing the values.\n",
    "money_to_invest= 1_000_000"
   ]
  },
  {
   "cell_type": "code",
   "execution_count": 30,
   "metadata": {},
   "outputs": [],
   "source": [
    "money_to_all=[]\n",
    "for i in weights:\n",
    "    money_to_all.append(money_to_invest*i)"
   ]
  },
  {
   "cell_type": "code",
   "execution_count": null,
   "metadata": {},
   "outputs": [
    {
     "data": {
      "text/plain": [
       "np.float64(258373.71561072487)"
      ]
     },
     "execution_count": 32,
     "metadata": {},
     "output_type": "execute_result"
    }
   ],
   "source": [
    "money_to_all"
   ]
  }
 ],
 "metadata": {
  "kernelspec": {
   "display_name": "Python 3",
   "language": "python",
   "name": "python3"
  },
  "language_info": {
   "codemirror_mode": {
    "name": "ipython",
    "version": 3
   },
   "file_extension": ".py",
   "mimetype": "text/x-python",
   "name": "python",
   "nbconvert_exporter": "python",
   "pygments_lexer": "ipython3",
   "version": "3.12.4"
  }
 },
 "nbformat": 4,
 "nbformat_minor": 2
}
