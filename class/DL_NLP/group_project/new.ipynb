{
 "cells": [
  {
   "cell_type": "code",
   "execution_count": 1,
   "metadata": {},
   "outputs": [
    {
     "ename": "ModuleNotFoundError",
     "evalue": "No module named 'datasets'",
     "output_type": "error",
     "traceback": [
      "\u001b[1;31m---------------------------------------------------------------------------\u001b[0m",
      "\u001b[1;31mModuleNotFoundError\u001b[0m                       Traceback (most recent call last)",
      "Cell \u001b[1;32mIn[1], line 1\u001b[0m\n\u001b[1;32m----> 1\u001b[0m \u001b[38;5;28;01mfrom\u001b[39;00m \u001b[38;5;21;01mdatasets\u001b[39;00m \u001b[38;5;28;01mimport\u001b[39;00m load_dataset\n\u001b[0;32m      3\u001b[0m ds \u001b[38;5;241m=\u001b[39m load_dataset(\u001b[38;5;124m\"\u001b[39m\u001b[38;5;124mcardiffnlp/databench\u001b[39m\u001b[38;5;124m\"\u001b[39m, \u001b[38;5;124m\"\u001b[39m\u001b[38;5;124msemeval\u001b[39m\u001b[38;5;124m\"\u001b[39m)\n",
      "\u001b[1;31mModuleNotFoundError\u001b[0m: No module named 'datasets'"
     ]
    }
   ],
   "source": [
    "from datasets import load_dataset\n",
    "\n",
    "ds = load_dataset(\"cardiffnlp/databench\", \"semeval\")"
   ]
  },
  {
   "cell_type": "code",
   "execution_count": 4,
   "metadata": {},
   "outputs": [
    {
     "ename": "ModuleNotFoundError",
     "evalue": "No module named 'datasets'",
     "output_type": "error",
     "traceback": [
      "\u001b[1;31m---------------------------------------------------------------------------\u001b[0m",
      "\u001b[1;31mModuleNotFoundError\u001b[0m                       Traceback (most recent call last)",
      "Cell \u001b[1;32mIn[4], line 1\u001b[0m\n\u001b[1;32m----> 1\u001b[0m \u001b[38;5;28;01mfrom\u001b[39;00m \u001b[38;5;21;01mdatasets\u001b[39;00m \u001b[38;5;28;01mimport\u001b[39;00m load_dataset\n\u001b[0;32m      3\u001b[0m \u001b[38;5;66;03m# Load all QA pairs\u001b[39;00m\n\u001b[0;32m      4\u001b[0m all_qa \u001b[38;5;241m=\u001b[39m load_dataset(\u001b[38;5;124m\"\u001b[39m\u001b[38;5;124mcardiffnlp/databench\u001b[39m\u001b[38;5;124m\"\u001b[39m, name\u001b[38;5;241m=\u001b[39m\u001b[38;5;124m\"\u001b[39m\u001b[38;5;124mqa\u001b[39m\u001b[38;5;124m\"\u001b[39m, split\u001b[38;5;241m=\u001b[39m\u001b[38;5;124m\"\u001b[39m\u001b[38;5;124mtrain\u001b[39m\u001b[38;5;124m\"\u001b[39m)\n",
      "\u001b[1;31mModuleNotFoundError\u001b[0m: No module named 'datasets'"
     ]
    }
   ],
   "source": [
    "from datasets import load_dataset\n",
    "\n",
    "# Load all QA pairs\n",
    "all_qa = load_dataset(\"cardiffnlp/databench\", name=\"qa\", split=\"train\")\n",
    "\n",
    "# Load SemEval 2025 task 8 Question-Answer splits\n",
    "semeval_train_qa = load_dataset(\"cardiffnlp/databench\", name=\"semeval\", split=\"train\")\n",
    "semeval_dev_qa = load_dataset(\"cardiffnlp/databench\", name=\"semeval\", split=\"dev\")\n"
   ]
  },
  {
   "cell_type": "code",
   "execution_count": 10,
   "metadata": {},
   "outputs": [
    {
     "name": "stdout",
     "output_type": "stream",
     "text": [
      "Contents of C:\\Users\\biswajit\\Downloads\\databench\\data\\001_Forbes\\qa.parquet:\n"
     ]
    },
    {
     "ename": "ImportError",
     "evalue": "Unable to find a usable engine; tried using: 'pyarrow', 'fastparquet'.\nA suitable version of pyarrow or fastparquet is required for parquet support.\nTrying to import the above resulted in these errors:\n - Missing optional dependency 'pyarrow'. pyarrow is required for parquet support. Use pip or conda to install pyarrow.\n - Missing optional dependency 'fastparquet'. fastparquet is required for parquet support. Use pip or conda to install fastparquet.",
     "output_type": "error",
     "traceback": [
      "\u001b[1;31m---------------------------------------------------------------------------\u001b[0m",
      "\u001b[1;31mImportError\u001b[0m                               Traceback (most recent call last)",
      "Cell \u001b[1;32mIn[10], line 31\u001b[0m\n\u001b[0;32m     28\u001b[0m                 \u001b[38;5;28mprint\u001b[39m(pd\u001b[38;5;241m.\u001b[39mread_parquet(all_file))\n\u001b[0;32m     30\u001b[0m \u001b[38;5;66;03m# Call the function to read parquet files\u001b[39;00m\n\u001b[1;32m---> 31\u001b[0m \u001b[43mread_parquet_files\u001b[49m\u001b[43m(\u001b[49m\u001b[43mdata_folder\u001b[49m\u001b[43m)\u001b[49m\n",
      "Cell \u001b[1;32mIn[10], line 20\u001b[0m, in \u001b[0;36mread_parquet_files\u001b[1;34m(folder_path)\u001b[0m\n\u001b[0;32m     18\u001b[0m \u001b[38;5;28;01mif\u001b[39;00m os\u001b[38;5;241m.\u001b[39mpath\u001b[38;5;241m.\u001b[39mexists(qa_file):\n\u001b[0;32m     19\u001b[0m     \u001b[38;5;28mprint\u001b[39m(\u001b[38;5;124mf\u001b[39m\u001b[38;5;124m\"\u001b[39m\u001b[38;5;124mContents of \u001b[39m\u001b[38;5;132;01m{\u001b[39;00mqa_file\u001b[38;5;132;01m}\u001b[39;00m\u001b[38;5;124m:\u001b[39m\u001b[38;5;124m\"\u001b[39m)\n\u001b[1;32m---> 20\u001b[0m     \u001b[38;5;28mprint\u001b[39m(\u001b[43mpd\u001b[49m\u001b[38;5;241;43m.\u001b[39;49m\u001b[43mread_parquet\u001b[49m\u001b[43m(\u001b[49m\u001b[43mqa_file\u001b[49m\u001b[43m)\u001b[49m)\n\u001b[0;32m     22\u001b[0m \u001b[38;5;28;01mif\u001b[39;00m os\u001b[38;5;241m.\u001b[39mpath\u001b[38;5;241m.\u001b[39mexists(sample_file):\n\u001b[0;32m     23\u001b[0m     \u001b[38;5;28mprint\u001b[39m(\u001b[38;5;124mf\u001b[39m\u001b[38;5;124m\"\u001b[39m\u001b[38;5;124mContents of \u001b[39m\u001b[38;5;132;01m{\u001b[39;00msample_file\u001b[38;5;132;01m}\u001b[39;00m\u001b[38;5;124m:\u001b[39m\u001b[38;5;124m\"\u001b[39m)\n",
      "File \u001b[1;32md:\\Program files\\PYTHON\\lib\\site-packages\\pandas\\io\\parquet.py:493\u001b[0m, in \u001b[0;36mread_parquet\u001b[1;34m(path, engine, columns, storage_options, use_nullable_dtypes, dtype_backend, **kwargs)\u001b[0m\n\u001b[0;32m    428\u001b[0m \u001b[38;5;129m@doc\u001b[39m(storage_options\u001b[38;5;241m=\u001b[39m_shared_docs[\u001b[38;5;124m\"\u001b[39m\u001b[38;5;124mstorage_options\u001b[39m\u001b[38;5;124m\"\u001b[39m])\n\u001b[0;32m    429\u001b[0m \u001b[38;5;28;01mdef\u001b[39;00m \u001b[38;5;21mread_parquet\u001b[39m(\n\u001b[0;32m    430\u001b[0m     path: FilePath \u001b[38;5;241m|\u001b[39m ReadBuffer[\u001b[38;5;28mbytes\u001b[39m],\n\u001b[1;32m   (...)\u001b[0m\n\u001b[0;32m    436\u001b[0m     \u001b[38;5;241m*\u001b[39m\u001b[38;5;241m*\u001b[39mkwargs,\n\u001b[0;32m    437\u001b[0m ) \u001b[38;5;241m-\u001b[39m\u001b[38;5;241m>\u001b[39m DataFrame:\n\u001b[0;32m    438\u001b[0m \u001b[38;5;250m    \u001b[39m\u001b[38;5;124;03m\"\"\"\u001b[39;00m\n\u001b[0;32m    439\u001b[0m \u001b[38;5;124;03m    Load a parquet object from the file path, returning a DataFrame.\u001b[39;00m\n\u001b[0;32m    440\u001b[0m \n\u001b[1;32m   (...)\u001b[0m\n\u001b[0;32m    491\u001b[0m \u001b[38;5;124;03m    DataFrame\u001b[39;00m\n\u001b[0;32m    492\u001b[0m \u001b[38;5;124;03m    \"\"\"\u001b[39;00m\n\u001b[1;32m--> 493\u001b[0m     impl \u001b[38;5;241m=\u001b[39m \u001b[43mget_engine\u001b[49m\u001b[43m(\u001b[49m\u001b[43mengine\u001b[49m\u001b[43m)\u001b[49m\n\u001b[0;32m    495\u001b[0m     \u001b[38;5;28;01mif\u001b[39;00m use_nullable_dtypes \u001b[38;5;129;01mis\u001b[39;00m \u001b[38;5;129;01mnot\u001b[39;00m lib\u001b[38;5;241m.\u001b[39mno_default:\n\u001b[0;32m    496\u001b[0m         msg \u001b[38;5;241m=\u001b[39m (\n\u001b[0;32m    497\u001b[0m             \u001b[38;5;124m\"\u001b[39m\u001b[38;5;124mThe argument \u001b[39m\u001b[38;5;124m'\u001b[39m\u001b[38;5;124muse_nullable_dtypes\u001b[39m\u001b[38;5;124m'\u001b[39m\u001b[38;5;124m is deprecated and will be removed \u001b[39m\u001b[38;5;124m\"\u001b[39m\n\u001b[0;32m    498\u001b[0m             \u001b[38;5;124m\"\u001b[39m\u001b[38;5;124min a future version.\u001b[39m\u001b[38;5;124m\"\u001b[39m\n\u001b[0;32m    499\u001b[0m         )\n",
      "File \u001b[1;32md:\\Program files\\PYTHON\\lib\\site-packages\\pandas\\io\\parquet.py:60\u001b[0m, in \u001b[0;36mget_engine\u001b[1;34m(engine)\u001b[0m\n\u001b[0;32m     57\u001b[0m         \u001b[38;5;28;01mexcept\u001b[39;00m \u001b[38;5;167;01mImportError\u001b[39;00m \u001b[38;5;28;01mas\u001b[39;00m err:\n\u001b[0;32m     58\u001b[0m             error_msgs \u001b[38;5;241m+\u001b[39m\u001b[38;5;241m=\u001b[39m \u001b[38;5;124m\"\u001b[39m\u001b[38;5;130;01m\\n\u001b[39;00m\u001b[38;5;124m - \u001b[39m\u001b[38;5;124m\"\u001b[39m \u001b[38;5;241m+\u001b[39m \u001b[38;5;28mstr\u001b[39m(err)\n\u001b[1;32m---> 60\u001b[0m     \u001b[38;5;28;01mraise\u001b[39;00m \u001b[38;5;167;01mImportError\u001b[39;00m(\n\u001b[0;32m     61\u001b[0m         \u001b[38;5;124m\"\u001b[39m\u001b[38;5;124mUnable to find a usable engine; \u001b[39m\u001b[38;5;124m\"\u001b[39m\n\u001b[0;32m     62\u001b[0m         \u001b[38;5;124m\"\u001b[39m\u001b[38;5;124mtried using: \u001b[39m\u001b[38;5;124m'\u001b[39m\u001b[38;5;124mpyarrow\u001b[39m\u001b[38;5;124m'\u001b[39m\u001b[38;5;124m, \u001b[39m\u001b[38;5;124m'\u001b[39m\u001b[38;5;124mfastparquet\u001b[39m\u001b[38;5;124m'\u001b[39m\u001b[38;5;124m.\u001b[39m\u001b[38;5;130;01m\\n\u001b[39;00m\u001b[38;5;124m\"\u001b[39m\n\u001b[0;32m     63\u001b[0m         \u001b[38;5;124m\"\u001b[39m\u001b[38;5;124mA suitable version of \u001b[39m\u001b[38;5;124m\"\u001b[39m\n\u001b[0;32m     64\u001b[0m         \u001b[38;5;124m\"\u001b[39m\u001b[38;5;124mpyarrow or fastparquet is required for parquet \u001b[39m\u001b[38;5;124m\"\u001b[39m\n\u001b[0;32m     65\u001b[0m         \u001b[38;5;124m\"\u001b[39m\u001b[38;5;124msupport.\u001b[39m\u001b[38;5;130;01m\\n\u001b[39;00m\u001b[38;5;124m\"\u001b[39m\n\u001b[0;32m     66\u001b[0m         \u001b[38;5;124m\"\u001b[39m\u001b[38;5;124mTrying to import the above resulted in these errors:\u001b[39m\u001b[38;5;124m\"\u001b[39m\n\u001b[0;32m     67\u001b[0m         \u001b[38;5;124mf\u001b[39m\u001b[38;5;124m\"\u001b[39m\u001b[38;5;132;01m{\u001b[39;00merror_msgs\u001b[38;5;132;01m}\u001b[39;00m\u001b[38;5;124m\"\u001b[39m\n\u001b[0;32m     68\u001b[0m     )\n\u001b[0;32m     70\u001b[0m \u001b[38;5;28;01mif\u001b[39;00m engine \u001b[38;5;241m==\u001b[39m \u001b[38;5;124m\"\u001b[39m\u001b[38;5;124mpyarrow\u001b[39m\u001b[38;5;124m\"\u001b[39m:\n\u001b[0;32m     71\u001b[0m     \u001b[38;5;28;01mreturn\u001b[39;00m PyArrowImpl()\n",
      "\u001b[1;31mImportError\u001b[0m: Unable to find a usable engine; tried using: 'pyarrow', 'fastparquet'.\nA suitable version of pyarrow or fastparquet is required for parquet support.\nTrying to import the above resulted in these errors:\n - Missing optional dependency 'pyarrow'. pyarrow is required for parquet support. Use pip or conda to install pyarrow.\n - Missing optional dependency 'fastparquet'. fastparquet is required for parquet support. Use pip or conda to install fastparquet."
     ]
    }
   ],
   "source": [
    "import pandas as pd\n",
    "import os\n",
    "\n",
    "# Path to your data folder\n",
    "data_folder = \"C:\\\\Users\\\\biswajit\\\\Downloads\\\\databench\\\\data\"\n",
    "\n",
    "# Function to read and display parquet files in each subfolder\n",
    "def read_parquet_files(folder_path):\n",
    "    for folder in os.listdir(folder_path):\n",
    "        folder_full_path = os.path.join(folder_path, folder)\n",
    "        if os.path.isdir(folder_full_path):\n",
    "            # Check for the specific parquet files in the folder\n",
    "            qa_file = os.path.join(folder_full_path, 'qa.parquet')\n",
    "            sample_file = os.path.join(folder_full_path, 'sample.parquet')\n",
    "            all_file = os.path.join(folder_full_path, 'all.parquet')\n",
    "            \n",
    "            # Read and display each file if it exists\n",
    "            if os.path.exists(qa_file):\n",
    "                print(f\"Contents of {qa_file}:\")\n",
    "                print(pd.read_parquet(qa_file))\n",
    "                \n",
    "            if os.path.exists(sample_file):\n",
    "                print(f\"Contents of {sample_file}:\")\n",
    "                print(pd.read_parquet(sample_file))\n",
    "                \n",
    "            if os.path.exists(all_file):\n",
    "                print(f\"Contents of {all_file}:\")\n",
    "                print(pd.read_parquet(all_file))\n",
    "\n",
    "# Call the function to read parquet files\n",
    "read_parquet_files(data_folder)\n"
   ]
  },
  {
   "cell_type": "code",
   "execution_count": 7,
   "metadata": {},
   "outputs": [
    {
     "name": "stdout",
     "output_type": "stream",
     "text": [
      "Collecting pyarrow\n",
      "  Downloading pyarrow-17.0.0-cp312-cp312-win_amd64.whl.metadata (3.4 kB)\n",
      "Requirement already satisfied: numpy>=1.16.6 in c:\\python312\\lib\\site-packages (from pyarrow) (2.0.1)\n",
      "Downloading pyarrow-17.0.0-cp312-cp312-win_amd64.whl (25.1 MB)\n",
      "   ---------------------------------------- 0.0/25.1 MB ? eta -:--:--\n",
      "   ---------------------------------------- 0.0/25.1 MB 991.0 kB/s eta 0:00:26\n",
      "   ---------------------------------------- 0.1/25.1 MB 991.0 kB/s eta 0:00:26\n",
      "   ---------------------------------------- 0.1/25.1 MB 983.0 kB/s eta 0:00:26\n",
      "   ---------------------------------------- 0.3/25.1 MB 1.6 MB/s eta 0:00:16\n",
      "    --------------------------------------- 0.4/25.1 MB 2.1 MB/s eta 0:00:12\n",
      "    --------------------------------------- 0.6/25.1 MB 2.6 MB/s eta 0:00:10\n",
      "   - -------------------------------------- 0.9/25.1 MB 2.9 MB/s eta 0:00:09\n",
      "   - -------------------------------------- 1.1/25.1 MB 3.7 MB/s eta 0:00:07\n",
      "   -- ------------------------------------- 1.5/25.1 MB 3.9 MB/s eta 0:00:07\n",
      "   --- ------------------------------------ 2.1/25.1 MB 5.2 MB/s eta 0:00:05\n",
      "   ---- ----------------------------------- 2.5/25.1 MB 5.4 MB/s eta 0:00:05\n",
      "   ----- ---------------------------------- 3.3/25.1 MB 6.7 MB/s eta 0:00:04\n",
      "   ----- ---------------------------------- 3.7/25.1 MB 6.9 MB/s eta 0:00:04\n",
      "   ------- -------------------------------- 4.5/25.1 MB 7.5 MB/s eta 0:00:03\n",
      "   ------- -------------------------------- 4.9/25.1 MB 7.7 MB/s eta 0:00:03\n",
      "   --------- ------------------------------ 5.7/25.1 MB 8.5 MB/s eta 0:00:03\n",
      "   --------- ------------------------------ 6.1/25.1 MB 8.5 MB/s eta 0:00:03\n",
      "   ---------- ----------------------------- 6.9/25.1 MB 9.0 MB/s eta 0:00:03\n",
      "   ----------- ---------------------------- 7.3/25.1 MB 9.2 MB/s eta 0:00:02\n",
      "   ------------ --------------------------- 8.1/25.1 MB 9.7 MB/s eta 0:00:02\n",
      "   ------------- -------------------------- 8.8/25.1 MB 10.0 MB/s eta 0:00:02\n",
      "   --------------- ------------------------ 9.6/25.1 MB 10.2 MB/s eta 0:00:02\n",
      "   --------------- ------------------------ 10.0/25.1 MB 10.5 MB/s eta 0:00:02\n",
      "   ----------------- ---------------------- 10.8/25.1 MB 12.8 MB/s eta 0:00:02\n",
      "   ------------------ --------------------- 11.6/25.1 MB 14.9 MB/s eta 0:00:01\n",
      "   ------------------- -------------------- 12.3/25.1 MB 14.6 MB/s eta 0:00:01\n",
      "   -------------------- ------------------- 13.0/25.1 MB 15.2 MB/s eta 0:00:01\n",
      "   --------------------- ------------------ 13.7/25.1 MB 16.0 MB/s eta 0:00:01\n",
      "   ----------------------- ---------------- 14.5/25.1 MB 16.0 MB/s eta 0:00:01\n",
      "   ------------------------ --------------- 15.5/25.1 MB 16.0 MB/s eta 0:00:01\n",
      "   ------------------------- -------------- 16.3/25.1 MB 16.8 MB/s eta 0:00:01\n",
      "   --------------------------- ------------ 17.1/25.1 MB 16.8 MB/s eta 0:00:01\n",
      "   ---------------------------- ----------- 17.9/25.1 MB 17.7 MB/s eta 0:00:01\n",
      "   ----------------------------- ---------- 18.8/25.1 MB 17.2 MB/s eta 0:00:01\n",
      "   ------------------------------- -------- 19.5/25.1 MB 18.2 MB/s eta 0:00:01\n",
      "   -------------------------------- ------- 20.4/25.1 MB 18.7 MB/s eta 0:00:01\n",
      "   --------------------------------- ------ 21.2/25.1 MB 17.7 MB/s eta 0:00:01\n",
      "   ----------------------------------- ---- 22.1/25.1 MB 18.7 MB/s eta 0:00:01\n",
      "   ------------------------------------ --- 22.8/25.1 MB 18.7 MB/s eta 0:00:01\n",
      "   ------------------------------------- -- 23.3/25.1 MB 18.7 MB/s eta 0:00:01\n",
      "   ------------------------------------- -- 23.3/25.1 MB 18.7 MB/s eta 0:00:01\n",
      "   ---------------------------------------  25.1/25.1 MB 18.7 MB/s eta 0:00:01\n",
      "   ---------------------------------------  25.1/25.1 MB 18.7 MB/s eta 0:00:01\n",
      "   ---------------------------------------  25.1/25.1 MB 18.7 MB/s eta 0:00:01\n",
      "   ---------------------------------------- 25.1/25.1 MB 15.2 MB/s eta 0:00:00\n",
      "Installing collected packages: pyarrow\n",
      "Successfully installed pyarrow-17.0.0\n"
     ]
    },
    {
     "name": "stderr",
     "output_type": "stream",
     "text": [
      "\n",
      "[notice] A new release of pip is available: 24.1.2 -> 24.2\n",
      "[notice] To update, run: C:\\Python312\\python.exe -m pip install --upgrade pip\n"
     ]
    },
    {
     "name": "stdout",
     "output_type": "stream",
     "text": [
      "Collecting fastparquet\n",
      "  Downloading fastparquet-2024.5.0-cp312-cp312-win_amd64.whl.metadata (4.3 kB)\n",
      "Requirement already satisfied: pandas>=1.5.0 in c:\\python312\\lib\\site-packages (from fastparquet) (2.2.2)\n",
      "Requirement already satisfied: numpy in c:\\python312\\lib\\site-packages (from fastparquet) (2.0.1)\n",
      "Collecting cramjam>=2.3 (from fastparquet)\n",
      "  Downloading cramjam-2.8.4-cp312-none-win_amd64.whl.metadata (4.7 kB)\n",
      "Collecting fsspec (from fastparquet)\n",
      "  Downloading fsspec-2024.9.0-py3-none-any.whl.metadata (11 kB)\n",
      "Requirement already satisfied: packaging in c:\\python312\\lib\\site-packages (from fastparquet) (24.1)\n",
      "Requirement already satisfied: python-dateutil>=2.8.2 in c:\\users\\biswajit\\appdata\\roaming\\python\\python312\\site-packages (from pandas>=1.5.0->fastparquet) (2.9.0.post0)\n",
      "Requirement already satisfied: pytz>=2020.1 in c:\\python312\\lib\\site-packages (from pandas>=1.5.0->fastparquet) (2024.1)\n",
      "Requirement already satisfied: tzdata>=2022.7 in c:\\python312\\lib\\site-packages (from pandas>=1.5.0->fastparquet) (2024.1)\n",
      "Requirement already satisfied: six>=1.5 in c:\\python312\\lib\\site-packages (from python-dateutil>=2.8.2->pandas>=1.5.0->fastparquet) (1.16.0)\n",
      "Downloading fastparquet-2024.5.0-cp312-cp312-win_amd64.whl (673 kB)\n",
      "   ---------------------------------------- 0.0/673.0 kB ? eta -:--:--\n",
      "   --- ------------------------------------ 61.4/673.0 kB 1.6 MB/s eta 0:00:01\n",
      "   --------- ------------------------------ 163.8/673.0 kB 2.0 MB/s eta 0:00:01\n",
      "   ------------------------- -------------- 430.1/673.0 kB 3.0 MB/s eta 0:00:01\n",
      "   ---------------------------------------- 673.0/673.0 kB 3.9 MB/s eta 0:00:00\n",
      "Downloading cramjam-2.8.4-cp312-none-win_amd64.whl (2.1 MB)\n",
      "   ---------------------------------------- 0.0/2.1 MB ? eta -:--:--\n",
      "   --------- ------------------------------ 0.5/2.1 MB 15.9 MB/s eta 0:00:01\n",
      "   -------------------- ------------------- 1.1/2.1 MB 11.8 MB/s eta 0:00:01\n",
      "   ------------------------------------- -- 2.0/2.1 MB 15.9 MB/s eta 0:00:01\n",
      "   ---------------------------------------- 2.1/2.1 MB 13.5 MB/s eta 0:00:00\n",
      "Downloading fsspec-2024.9.0-py3-none-any.whl (179 kB)\n",
      "   ---------------------------------------- 0.0/179.3 kB ? eta -:--:--\n",
      "   --------------------------------------- 179.3/179.3 kB 11.3 MB/s eta 0:00:00\n",
      "Installing collected packages: fsspec, cramjam, fastparquet\n",
      "Successfully installed cramjam-2.8.4 fastparquet-2024.5.0 fsspec-2024.9.0\n"
     ]
    },
    {
     "name": "stderr",
     "output_type": "stream",
     "text": [
      "\n",
      "[notice] A new release of pip is available: 24.1.2 -> 24.2\n",
      "[notice] To update, run: C:\\Python312\\python.exe -m pip install --upgrade pip\n"
     ]
    }
   ],
   "source": [
    "! pip install pyarrow\n",
    "! pip install fastparquet\n"
   ]
  }
 ],
 "metadata": {
  "kernelspec": {
   "display_name": "Python 3",
   "language": "python",
   "name": "python3"
  },
  "language_info": {
   "codemirror_mode": {
    "name": "ipython",
    "version": 3
   },
   "file_extension": ".py",
   "mimetype": "text/x-python",
   "name": "python",
   "nbconvert_exporter": "python",
   "pygments_lexer": "ipython3",
   "version": "3.10.5"
  }
 },
 "nbformat": 4,
 "nbformat_minor": 2
}
