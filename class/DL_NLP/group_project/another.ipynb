{
 "cells": [
  {
   "cell_type": "code",
   "execution_count": null,
   "metadata": {},
   "outputs": [],
   "source": [
    "from datasets import load_dataset\n",
    "\n",
    "# Load all QA pairs\n",
    "all_qa = load_dataset(\"cardiffnlp/databench\", name=\"qa\", split=\"train\")\n",
    "\n",
    "# Load SemEval 2025 task 8 Question-Answer splits\n",
    "semeval_train_qa = load_dataset(\"cardiffnlp/databench\", name=\"semeval\", split=\"train\")\n",
    "semeval_dev_qa = load_dataset(\"cardiffnlp/databench\", name=\"semeval\", split=\"dev\")\n"
   ]
  },
  {
   "cell_type": "code",
   "execution_count": 33,
   "metadata": {},
   "outputs": [],
   "source": [
    "import pandas as pd\n",
    "\n",
    "# \"001_Forbes\", the id of the dataset\n",
    "ds_id = all_qa['dataset'][0] \n",
    "\n",
    "# full dataset\n",
    "df1 = pd.read_parquet(f\"hf://datasets/cardiffnlp/databench/data/{ds_id}/all.parquet\")\n",
    "\n",
    "# sample dataset\n",
    "df = pd.read_parquet(f\"hf://datasets/cardiffnlp/databench/data/{ds_id}/sample.parquet\")\n",
    "\n",
    "# sample dataset\n",
    "df2 = pd.read_parquet(f\"hf://datasets/cardiffnlp/databench/data/{ds_id}/qa.parquet\")\n"
   ]
  },
  {
   "cell_type": "code",
   "execution_count": 34,
   "metadata": {},
   "outputs": [
    {
     "name": "stdout",
     "output_type": "stream",
     "text": [
      "Index(['rank', 'personName', 'age', 'finalWorth', 'category', 'source',\n",
      "       'country', 'state', 'city', 'organization', 'selfMade', 'gender',\n",
      "       'birthDate', 'title', 'philanthropyScore', 'bio', 'about'],\n",
      "      dtype='object')\n"
     ]
    }
   ],
   "source": [
    "print(df.columns)"
   ]
  },
  {
   "cell_type": "code",
   "execution_count": null,
   "metadata": {},
   "outputs": [],
   "source": []
  }
 ],
 "metadata": {
  "kernelspec": {
   "display_name": "base",
   "language": "python",
   "name": "python3"
  },
  "language_info": {
   "codemirror_mode": {
    "name": "ipython",
    "version": 3
   },
   "file_extension": ".py",
   "mimetype": "text/x-python",
   "name": "python",
   "nbconvert_exporter": "python",
   "pygments_lexer": "ipython3",
   "version": "3.11.7"
  }
 },
 "nbformat": 4,
 "nbformat_minor": 2
}
