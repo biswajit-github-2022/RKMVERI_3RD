{
 "cells": [
  {
   "cell_type": "markdown",
   "metadata": {},
   "source": [
    "# Implementing a simple two layers neural network\n",
    "In this exercise we will develop a two neural network with fully-connected layers to perform classification, and test it out on the MNIST dataset.\n"
   ]
  },
  {
   "cell_type": "code",
   "execution_count": 7,
   "metadata": {},
   "outputs": [
    {
     "name": "stdout",
     "output_type": "stream",
     "text": [
      "The autoreload extension is already loaded. To reload it, use:\n",
      "  %reload_ext autoreload\n"
     ]
    }
   ],
   "source": [
    "\"\"\"\n",
    "-----------------------------------------------------------------------------\n",
    "A simple two layers neural network for handwritten digit classification (MNIST)\n",
    "-----------------------------------------------------------------------------\n",
    "AUTHOR: Soumitra Samanta (soumitra.samanta@gm.rkmvu.ac.in)\n",
    "-----------------------------------------------------------------------------\n",
    "\"\"\"\n",
    "\n",
    "import gzip\n",
    "import numpy as np\n",
    "import matplotlib.pyplot as plt\n",
    "import copy\n",
    "\n",
    "from first_nn_sol import *\n",
    "\n",
    "# for auto-reloading external modules\n",
    "# see http://stackoverflow.com/questions/1907993/autoreload-of-modules-in-ipython\n",
    "%load_ext autoreload\n",
    "%autoreload 2\n"
   ]
  },
  {
   "cell_type": "markdown",
   "metadata": {},
   "source": [
    "# Read MNIST data:\n",
    "You can download the data from [here](https://yann.lecun.com/exdb/mnist/). There are many [way](https://stackoverflow.com/questions/40427435/extract-images-from-idx3-ubyte-file-or-gzip-via-python) you can read the MNIST data. Here is a [way](https://stackoverflow.com/a/62781370) to read all the information."
   ]
  },
  {
   "cell_type": "code",
   "execution_count": 8,
   "metadata": {},
   "outputs": [
    {
     "name": "stdout",
     "output_type": "stream",
     "text": [
      "Train data (X) size: (60000, 28, 28), and labels (Y) size: (60000,)\n",
      "Test data (X) size: (10000, 28, 28), and labels (Y) size: (10000,)\n"
     ]
    },
    {
     "data": {
      "image/png": "[encoded data removed]",
      "text/plain": [
       "<Figure size 432x288 with 1 Axes>"
      ]
     },
     "metadata": {
      "needs_background": "light"
     },
     "output_type": "display_data"
    }
   ],
   "source": [
    "def read_images(filename):\n",
    "    \"\"\"Read MNIST images\"\"\"\n",
    "    \n",
    "    with gzip.open(filename, 'r') as f:\n",
    "        # first 4 bytes is a magic number\n",
    "        magic_number = int.from_bytes(f.read(4), 'big')\n",
    "        # second 4 bytes is the number of images\n",
    "        image_count = int.from_bytes(f.read(4), 'big')\n",
    "        # third 4 bytes is the row count\n",
    "        row_count = int.from_bytes(f.read(4), 'big')\n",
    "        # fourth 4 bytes is the column count\n",
    "        column_count = int.from_bytes(f.read(4), 'big')\n",
    "        # rest is the image pixel data, each pixel is stored as an unsigned byte\n",
    "        # pixel values are 0 to 255\n",
    "        image_data = f.read()\n",
    "        images = np.frombuffer(image_data, dtype=np.uint8).reshape((image_count, row_count, column_count))\n",
    "        \n",
    "    return images\n",
    "\n",
    "def read_labels(filename):\n",
    "    \"\"\"Read MNIST labels\"\"\"\n",
    "    \n",
    "    with gzip.open(filename, 'r') as f:\n",
    "        # first 4 bytes is a magic number\n",
    "        magic_number = int.from_bytes(f.read(4), 'big')\n",
    "        # second 4 bytes is the number of labels\n",
    "        label_count = int.from_bytes(f.read(4), 'big')\n",
    "        # rest is the label data, each label is stored as unsigned byte\n",
    "        # label values are 0 to 9\n",
    "        label_data = f.read()\n",
    "        labels = np.frombuffer(label_data, dtype=np.uint8)\n",
    "        \n",
    "    return labels\n",
    "\n",
    "\n",
    "dataset_path = '../Assignment_1/'\n",
    "\n",
    "train_image_filename = ''.join([dataset_path, 'train-images-idx3-ubyte.gz'])\n",
    "train_label_filename = ''.join([dataset_path, 'train-labels-idx1-ubyte.gz'])\n",
    "\n",
    "test_image_filename = ''.join([dataset_path, 't10k-images-idx3-ubyte.gz'])\n",
    "test_label_filename = ''.join([dataset_path, 't10k-labels-idx1-ubyte.gz'])\n",
    "\n",
    "train_images = read_images(train_image_filename)\n",
    "train_labels = read_labels(train_label_filename)\n",
    "\n",
    "print('Train data (X) size: {}, and labels (Y) size: {}' .format(train_images.shape, train_labels.shape))\n",
    "\n",
    "test_images = read_images(test_image_filename)\n",
    "test_labels = read_labels(test_label_filename)\n",
    "\n",
    "print('Test data (X) size: {}, and labels (Y) size: {}' .format(test_images.shape, test_labels.shape))\n",
    "\n",
    "\n",
    "\n",
    "rand_ids = np.random.choice(train_images.shape[0])\n",
    "plt.imshow(train_images[rand_ids, :, :], cmap='gray')\n",
    "plt.title('class-'+str(train_labels[rand_ids]))\n",
    "plt.show()\n",
    "\n"
   ]
  },
  {
   "cell_type": "markdown",
   "metadata": {},
   "source": [
    "# TODO: Create a validation data from training data (10%) and transform the data in $\\mathbf{R}^d$."
   ]
  },
  {
   "cell_type": "code",
   "execution_count": 9,
   "metadata": {},
   "outputs": [
    {
     "name": "stdout",
     "output_type": "stream",
     "text": [
      "Val data (X) size: (5999, 28, 28), and labels (Y) size: (5999,)\n",
      "After reshape\n",
      "\n",
      "Train data (X) size: (59990, 784), and labels (Y) size: (59990,)\n",
      "Val data (X) size: (5999, 784), and labels (Y) size: (5999,)\n",
      "Test data (X) size: (10000, 784), and labels (Y) size: (10000,)\n"
     ]
    }
   ],
   "source": [
    "val_data_ration = 0.1\n",
    "class_ids = list(set(train_labels))\n",
    "val_ids = []\n",
    "for cl in class_ids:\n",
    "    temp_val_index = np.where(train_labels==cl)\n",
    "    val_ids.extend(list(np.random.permutation(temp_val_index[0])[:round(temp_val_index[0].shape[0]*val_data_ration)]))\n",
    "# print(val_ids)     \n",
    "val_images = train_images[val_ids, :, :]  \n",
    "val_labels = train_labels[val_ids]  \n",
    "print('Val data (X) size: {}, and labels (Y) size: {}' .format(val_images.shape, val_labels.shape))\n",
    "\n",
    "train_ids = [i for i in range(train_labels.shape[0]) if i not in val_labels]\n",
    "revised_train_images = train_images[train_ids, :, :]  \n",
    "revised_train_labels = train_labels[train_ids]  \n",
    " \n",
    "X_train = revised_train_images.reshape(revised_train_images.shape[0], -1)\n",
    "Y_train = revised_train_labels.reshape(-1)\n",
    "X_val = val_images.reshape(val_images.shape[0], -1)\n",
    "Y_val = val_labels.reshape(-1)\n",
    "X_test = test_images.reshape(test_images.shape[0], -1)\n",
    "Y_test = test_labels.reshape(-1)\n",
    "\n",
    "print('After reshape\\n')\n",
    "print('Train data (X) size: {}, and labels (Y) size: {}' .format(X_train.shape, Y_train.shape))\n",
    "print('Val data (X) size: {}, and labels (Y) size: {}' .format(X_val.shape, Y_val.shape))\n",
    "print('Test data (X) size: {}, and labels (Y) size: {}' .format(X_test.shape, Y_test.shape))\n",
    "\n",
    "\n",
    "\n",
    "                        \n",
    "                        "
   ]
  },
  {
   "cell_type": "markdown",
   "metadata": {},
   "source": [
    "# Train a network\n",
    "To train our network we will use Stochastic Gradient Decent (SGD)."
   ]
  },
  {
   "cell_type": "code",
   "execution_count": null,
   "metadata": {},
   "outputs": [],
   "source": []
  },
  {
   "cell_type": "code",
   "execution_count": 16,
   "metadata": {},
   "outputs": [
    {
     "name": "stdout",
     "output_type": "stream",
     "text": [
      "======================================================================\n",
      "Training epoch 1/(30)\n",
      "----------------------------------------------------------------------\n"
     ]
    },
    {
     "name": "stderr",
     "output_type": "stream",
     "text": [
      "iteration: 299 / (300), loss: 1.137986: 100%|██████████| 300/300 [00:01<00:00, 245.23it/s]\n"
     ]
    },
    {
     "name": "stdout",
     "output_type": "stream",
     "text": [
      "epoch: 1 / (30), loss: 1.616773, train acc: 83.68, val acc: 84.08\n",
      "======================================================================\n",
      "Training epoch 2/(30)\n",
      "----------------------------------------------------------------------\n"
     ]
    },
    {
     "name": "stderr",
     "output_type": "stream",
     "text": [
      "iteration: 299 / (300), loss: 0.785912: 100%|██████████| 300/300 [00:01<00:00, 228.73it/s]\n"
     ]
    },
    {
     "name": "stdout",
     "output_type": "stream",
     "text": [
      "epoch: 2 / (30), loss: 0.915769, train acc: 88.92, val acc: 89.08\n",
      "======================================================================\n",
      "Training epoch 3/(30)\n",
      "----------------------------------------------------------------------\n"
     ]
    },
    {
     "name": "stderr",
     "output_type": "stream",
     "text": [
      "iteration: 299 / (300), loss: 0.652103: 100%|██████████| 300/300 [00:01<00:00, 212.50it/s]\n"
     ]
    },
    {
     "name": "stdout",
     "output_type": "stream",
     "text": [
      "epoch: 3 / (30), loss: 0.673383, train acc: 89.30, val acc: 89.55\n",
      "======================================================================\n",
      "Training epoch 4/(30)\n",
      "----------------------------------------------------------------------\n"
     ]
    },
    {
     "name": "stderr",
     "output_type": "stream",
     "text": [
      "iteration: 299 / (300), loss: 0.471903: 100%|██████████| 300/300 [00:01<00:00, 268.50it/s]\n"
     ]
    },
    {
     "name": "stdout",
     "output_type": "stream",
     "text": [
      "epoch: 4 / (30), loss: 0.552292, train acc: 90.75, val acc: 91.22\n",
      "======================================================================\n",
      "Training epoch 5/(30)\n",
      "----------------------------------------------------------------------\n"
     ]
    },
    {
     "name": "stderr",
     "output_type": "stream",
     "text": [
      "iteration: 299 / (300), loss: 0.384663: 100%|██████████| 300/300 [00:01<00:00, 212.71it/s]\n"
     ]
    },
    {
     "name": "stdout",
     "output_type": "stream",
     "text": [
      "epoch: 5 / (30), loss: 0.475120, train acc: 91.27, val acc: 91.40\n",
      "======================================================================\n",
      "Training epoch 6/(30)\n",
      "----------------------------------------------------------------------\n"
     ]
    },
    {
     "name": "stderr",
     "output_type": "stream",
     "text": [
      "iteration: 299 / (300), loss: 0.385941: 100%|██████████| 300/300 [00:01<00:00, 240.90it/s]\n"
     ]
    },
    {
     "name": "stdout",
     "output_type": "stream",
     "text": [
      "epoch: 6 / (30), loss: 0.423629, train acc: 91.58, val acc: 91.83\n",
      "======================================================================\n",
      "Training epoch 7/(30)\n",
      "----------------------------------------------------------------------\n"
     ]
    },
    {
     "name": "stderr",
     "output_type": "stream",
     "text": [
      "iteration: 299 / (300), loss: 0.332311: 100%|██████████| 300/300 [00:01<00:00, 251.41it/s]\n"
     ]
    },
    {
     "name": "stdout",
     "output_type": "stream",
     "text": [
      "epoch: 7 / (30), loss: 0.384237, train acc: 92.02, val acc: 91.83\n",
      "======================================================================\n",
      "Training epoch 8/(30)\n",
      "----------------------------------------------------------------------\n"
     ]
    },
    {
     "name": "stderr",
     "output_type": "stream",
     "text": [
      "iteration: 299 / (300), loss: 0.322806: 100%|██████████| 300/300 [00:01<00:00, 202.28it/s]\n"
     ]
    },
    {
     "name": "stdout",
     "output_type": "stream",
     "text": [
      "epoch: 8 / (30), loss: 0.356764, train acc: 92.26, val acc: 92.65\n",
      "======================================================================\n",
      "Training epoch 9/(30)\n",
      "----------------------------------------------------------------------\n"
     ]
    },
    {
     "name": "stderr",
     "output_type": "stream",
     "text": [
      "iteration: 299 / (300), loss: 0.390393: 100%|██████████| 300/300 [00:01<00:00, 236.40it/s]\n"
     ]
    },
    {
     "name": "stdout",
     "output_type": "stream",
     "text": [
      "epoch: 9 / (30), loss: 0.335687, train acc: 92.90, val acc: 93.08\n",
      "======================================================================\n",
      "Training epoch 10/(30)\n",
      "----------------------------------------------------------------------\n"
     ]
    },
    {
     "name": "stderr",
     "output_type": "stream",
     "text": [
      "iteration: 299 / (300), loss: 0.258582: 100%|██████████| 300/300 [00:01<00:00, 257.61it/s]\n"
     ]
    },
    {
     "name": "stdout",
     "output_type": "stream",
     "text": [
      "epoch: 10 / (30), loss: 0.317070, train acc: 93.00, val acc: 92.57\n",
      "======================================================================\n",
      "Training epoch 11/(30)\n",
      "----------------------------------------------------------------------\n"
     ]
    },
    {
     "name": "stderr",
     "output_type": "stream",
     "text": [
      "iteration: 299 / (300), loss: 0.295751: 100%|██████████| 300/300 [00:01<00:00, 243.66it/s]\n"
     ]
    },
    {
     "name": "stdout",
     "output_type": "stream",
     "text": [
      "epoch: 11 / (30), loss: 0.302434, train acc: 92.91, val acc: 92.83\n",
      "======================================================================\n",
      "Training epoch 12/(30)\n",
      "----------------------------------------------------------------------\n"
     ]
    },
    {
     "name": "stderr",
     "output_type": "stream",
     "text": [
      "iteration: 299 / (300), loss: 0.270800: 100%|██████████| 300/300 [00:01<00:00, 221.69it/s]\n"
     ]
    },
    {
     "name": "stdout",
     "output_type": "stream",
     "text": [
      "epoch: 12 / (30), loss: 0.291478, train acc: 93.08, val acc: 93.02\n",
      "======================================================================\n",
      "Training epoch 13/(30)\n",
      "----------------------------------------------------------------------\n"
     ]
    },
    {
     "name": "stderr",
     "output_type": "stream",
     "text": [
      "iteration: 299 / (300), loss: 0.207776: 100%|██████████| 300/300 [00:01<00:00, 261.95it/s]\n"
     ]
    },
    {
     "name": "stdout",
     "output_type": "stream",
     "text": [
      "epoch: 13 / (30), loss: 0.281251, train acc: 93.47, val acc: 93.25\n",
      "======================================================================\n",
      "Training epoch 14/(30)\n",
      "----------------------------------------------------------------------\n"
     ]
    },
    {
     "name": "stderr",
     "output_type": "stream",
     "text": [
      "iteration: 299 / (300), loss: 0.223669: 100%|██████████| 300/300 [00:01<00:00, 259.49it/s]\n"
     ]
    },
    {
     "name": "stdout",
     "output_type": "stream",
     "text": [
      "epoch: 14 / (30), loss: 0.270010, train acc: 93.58, val acc: 93.52\n",
      "======================================================================\n",
      "Training epoch 15/(30)\n",
      "----------------------------------------------------------------------\n"
     ]
    },
    {
     "name": "stderr",
     "output_type": "stream",
     "text": [
      "iteration: 299 / (300), loss: 0.240158: 100%|██████████| 300/300 [00:01<00:00, 274.20it/s]\n"
     ]
    },
    {
     "name": "stdout",
     "output_type": "stream",
     "text": [
      "epoch: 15 / (30), loss: 0.264761, train acc: 93.77, val acc: 93.73\n",
      "======================================================================\n",
      "Training epoch 16/(30)\n",
      "----------------------------------------------------------------------\n"
     ]
    },
    {
     "name": "stderr",
     "output_type": "stream",
     "text": [
      "iteration: 299 / (300), loss: 0.217671: 100%|██████████| 300/300 [00:01<00:00, 262.86it/s]\n"
     ]
    },
    {
     "name": "stdout",
     "output_type": "stream",
     "text": [
      "epoch: 16 / (30), loss: 0.255487, train acc: 93.70, val acc: 93.25\n",
      "======================================================================\n",
      "Training epoch 17/(30)\n",
      "----------------------------------------------------------------------\n"
     ]
    },
    {
     "name": "stderr",
     "output_type": "stream",
     "text": [
      "iteration: 299 / (300), loss: 0.259217: 100%|██████████| 300/300 [00:01<00:00, 246.29it/s]\n"
     ]
    },
    {
     "name": "stdout",
     "output_type": "stream",
     "text": [
      "epoch: 17 / (30), loss: 0.248897, train acc: 94.06, val acc: 93.92\n",
      "======================================================================\n",
      "Training epoch 18/(30)\n",
      "----------------------------------------------------------------------\n"
     ]
    },
    {
     "name": "stderr",
     "output_type": "stream",
     "text": [
      "iteration: 299 / (300), loss: 0.246302: 100%|██████████| 300/300 [00:01<00:00, 213.11it/s]\n"
     ]
    },
    {
     "name": "stdout",
     "output_type": "stream",
     "text": [
      "epoch: 18 / (30), loss: 0.243995, train acc: 93.97, val acc: 93.87\n",
      "======================================================================\n",
      "Training epoch 19/(30)\n",
      "----------------------------------------------------------------------\n"
     ]
    },
    {
     "name": "stderr",
     "output_type": "stream",
     "text": [
      "iteration: 299 / (300), loss: 0.279100: 100%|██████████| 300/300 [00:01<00:00, 249.48it/s]\n"
     ]
    },
    {
     "name": "stdout",
     "output_type": "stream",
     "text": [
      "epoch: 19 / (30), loss: 0.238952, train acc: 93.59, val acc: 93.57\n",
      "======================================================================\n",
      "Training epoch 20/(30)\n",
      "----------------------------------------------------------------------\n"
     ]
    },
    {
     "name": "stderr",
     "output_type": "stream",
     "text": [
      "iteration: 299 / (300), loss: 0.249157: 100%|██████████| 300/300 [00:01<00:00, 223.46it/s]\n"
     ]
    },
    {
     "name": "stdout",
     "output_type": "stream",
     "text": [
      "epoch: 20 / (30), loss: 0.237014, train acc: 94.01, val acc: 93.73\n",
      "======================================================================\n",
      "Training epoch 21/(30)\n",
      "----------------------------------------------------------------------\n"
     ]
    },
    {
     "name": "stderr",
     "output_type": "stream",
     "text": [
      "iteration: 299 / (300), loss: 0.212606: 100%|██████████| 300/300 [00:01<00:00, 237.39it/s]\n"
     ]
    },
    {
     "name": "stdout",
     "output_type": "stream",
     "text": [
      "epoch: 21 / (30), loss: 0.228943, train acc: 94.17, val acc: 93.97\n",
      "======================================================================\n",
      "Training epoch 22/(30)\n",
      "----------------------------------------------------------------------\n"
     ]
    },
    {
     "name": "stderr",
     "output_type": "stream",
     "text": [
      "iteration: 299 / (300), loss: 0.240587: 100%|██████████| 300/300 [00:01<00:00, 251.04it/s]\n"
     ]
    },
    {
     "name": "stdout",
     "output_type": "stream",
     "text": [
      "epoch: 22 / (30), loss: 0.224775, train acc: 94.35, val acc: 94.05\n",
      "======================================================================\n",
      "Training epoch 23/(30)\n",
      "----------------------------------------------------------------------\n"
     ]
    },
    {
     "name": "stderr",
     "output_type": "stream",
     "text": [
      "iteration: 299 / (300), loss: 0.166572: 100%|██████████| 300/300 [00:01<00:00, 217.50it/s]\n"
     ]
    },
    {
     "name": "stdout",
     "output_type": "stream",
     "text": [
      "epoch: 23 / (30), loss: 0.218949, train acc: 94.54, val acc: 94.17\n",
      "======================================================================\n",
      "Training epoch 24/(30)\n",
      "----------------------------------------------------------------------\n"
     ]
    },
    {
     "name": "stderr",
     "output_type": "stream",
     "text": [
      "iteration: 299 / (300), loss: 0.180035: 100%|██████████| 300/300 [00:01<00:00, 230.43it/s]\n"
     ]
    },
    {
     "name": "stdout",
     "output_type": "stream",
     "text": [
      "epoch: 24 / (30), loss: 0.217191, train acc: 94.40, val acc: 94.33\n",
      "======================================================================\n",
      "Training epoch 25/(30)\n",
      "----------------------------------------------------------------------\n"
     ]
    },
    {
     "name": "stderr",
     "output_type": "stream",
     "text": [
      "iteration: 299 / (300), loss: 0.368032: 100%|██████████| 300/300 [00:01<00:00, 240.75it/s]\n"
     ]
    },
    {
     "name": "stdout",
     "output_type": "stream",
     "text": [
      "epoch: 25 / (30), loss: 0.213001, train acc: 94.44, val acc: 94.50\n",
      "======================================================================\n",
      "Training epoch 26/(30)\n",
      "----------------------------------------------------------------------\n"
     ]
    },
    {
     "name": "stderr",
     "output_type": "stream",
     "text": [
      "iteration: 299 / (300), loss: 0.219597: 100%|██████████| 300/300 [00:01<00:00, 267.61it/s]\n",
      "/home/biswajit/Documents/RKMVERI_3RD/class/DL_NLP/Assignment_1_c/first_nn_sol.py:27: RuntimeWarning: overflow encountered in exp\n",
      "  return 1/(1 + np.exp(-z))\n"
     ]
    },
    {
     "name": "stdout",
     "output_type": "stream",
     "text": [
      "epoch: 26 / (30), loss: 0.210170, train acc: 94.53, val acc: 94.43\n",
      "======================================================================\n",
      "Training epoch 27/(30)\n",
      "----------------------------------------------------------------------\n"
     ]
    },
    {
     "name": "stderr",
     "output_type": "stream",
     "text": [
      "iteration: 299 / (300), loss: 0.236221: 100%|██████████| 300/300 [00:01<00:00, 221.85it/s]\n"
     ]
    },
    {
     "name": "stdout",
     "output_type": "stream",
     "text": [
      "epoch: 27 / (30), loss: 0.206753, train acc: 94.77, val acc: 94.68\n",
      "======================================================================\n",
      "Training epoch 28/(30)\n",
      "----------------------------------------------------------------------\n"
     ]
    },
    {
     "name": "stderr",
     "output_type": "stream",
     "text": [
      "iteration: 299 / (300), loss: 0.118301: 100%|██████████| 300/300 [00:01<00:00, 219.32it/s]\n"
     ]
    },
    {
     "name": "stdout",
     "output_type": "stream",
     "text": [
      "epoch: 28 / (30), loss: 0.204078, train acc: 94.91, val acc: 94.87\n",
      "======================================================================\n",
      "Training epoch 29/(30)\n",
      "----------------------------------------------------------------------\n"
     ]
    },
    {
     "name": "stderr",
     "output_type": "stream",
     "text": [
      "iteration: 299 / (300), loss: 0.289834: 100%|██████████| 300/300 [00:01<00:00, 232.05it/s]\n"
     ]
    },
    {
     "name": "stdout",
     "output_type": "stream",
     "text": [
      "epoch: 29 / (30), loss: 0.199720, train acc: 94.65, val acc: 94.53\n",
      "======================================================================\n",
      "Training epoch 30/(30)\n",
      "----------------------------------------------------------------------\n"
     ]
    },
    {
     "name": "stderr",
     "output_type": "stream",
     "text": [
      "iteration: 299 / (300), loss: 0.194910: 100%|██████████| 300/300 [00:01<00:00, 228.27it/s]\n"
     ]
    },
    {
     "name": "stdout",
     "output_type": "stream",
     "text": [
      "epoch: 30 / (30), loss: 0.198098, train acc: 94.95, val acc: 94.70\n"
     ]
    }
   ],
   "source": [
    "data_dimension = X_train.shape[1]\n",
    "num_hidden_nodes = 50\n",
    "num_classes = 10\n",
    "param_init=\"small_std\"\n",
    "net = FirstNN(data_dimension, num_hidden_nodes, num_classes, param_inits=param_init)\n",
    "\n",
    "# Train the network\n",
    "stats = net.train(X_train, Y_train, X_val, Y_val, \n",
    "                  num_iters=10000,\n",
    "                  num_epoch=30,\n",
    "                  batch_size=200, \n",
    "                  learning_rate=1e-2, \n",
    "                  update_rule=\"m_gd\",\n",
    "                  beta_moment=1e-1,\n",
    "                  verbose=True\n",
    "                 )\n",
    "\n",
    "\n",
    "\n"
   ]
  },
  {
   "cell_type": "code",
   "execution_count": 17,
   "metadata": {},
   "outputs": [
    {
     "name": "stdout",
     "output_type": "stream",
     "text": [
      "Train accuracy: 94.91\n",
      "Validation accuracy: 94.87\n",
      "Test accuracy: 93.86\n"
     ]
    }
   ],
   "source": [
    "# Predict on the train set\n",
    "Y_train_pred = net.predict(X_train, best_param=True)\n",
    "train_acc = 100*(Y_train_pred == Y_train).mean()\n",
    "print('Train accuracy: {:.2f}' .format(train_acc))\n",
    "\n",
    "# Predict on the validation set\n",
    "Y_val_pred = net.predict(X_val, best_param=True)\n",
    "val_acc = 100*(Y_val_pred == Y_val).mean()\n",
    "print('Validation accuracy: {:.2f}' .format(val_acc))\n",
    "\n",
    "# Predict on the test set\n",
    "Y_test_pred = net.predict(X_test, best_param=True)\n",
    "test_acc = 100*(Y_test_pred == Y_test).mean()\n",
    "print('Test accuracy: {:.2f}' .format(test_acc))"
   ]
  },
  {
   "cell_type": "markdown",
   "metadata": {},
   "source": [
    "# Plot the loss."
   ]
  },
  {
   "cell_type": "code",
   "execution_count": 18,
   "metadata": {},
   "outputs": [
    {
     "data": {
      "image/png": "[encoded data removed]",
      "text/plain": [
       "<Figure size 432x288 with 3 Axes>"
      ]
     },
     "metadata": {
      "needs_background": "light"
     },
     "output_type": "display_data"
    }
   ],
   "source": [
    "# Plot the loss function and train / validation accuracies\n",
    "plt.subplot(3, 1, 1)\n",
    "plt.plot(stats['loss_history_batch'])\n",
    "plt.title('Loss history batch wise')\n",
    "plt.xlabel('Iteration')\n",
    "plt.ylabel('Loss')\n",
    "plt.grid(linestyle='--')\n",
    "\n",
    "plt.subplot(3, 1, 2)\n",
    "plt.plot(stats['loss_history_epoch'])\n",
    "plt.title('Loss history epoch wise')\n",
    "plt.xlabel('Iteration')\n",
    "plt.ylabel('Loss')\n",
    "plt.grid(linestyle='--')\n",
    "\n",
    "plt.subplot(3, 1, 3)\n",
    "plt.plot(stats['train_acc_history'], label='train')\n",
    "plt.plot(stats['val_acc_history'], label='val')\n",
    "plt.title('Classification accuracy history')\n",
    "plt.xlabel('Epoch')\n",
    "plt.ylabel('Clasification accuracy')\n",
    "plt.grid(linestyle='--')\n",
    "plt.legend()\n",
    "plt.show()"
   ]
  },
  {
   "cell_type": "markdown",
   "metadata": {},
   "source": [
    "# TODO: Tune your hyperparameters:\n",
    "    - Learning rate:\n",
    "    - Number of nodes in hidden layer:\n"
   ]
  },
  {
   "cell_type": "code",
   "execution_count": 19,
   "metadata": {},
   "outputs": [
    {
     "name": "stdout",
     "output_type": "stream",
     "text": [
      "#hdnn: 30, lr: 0.001 train accuracy: 88.90 val accuracy: 88.93\n",
      "#hdnn: 30, lr: 0.005 train accuracy: 92.85 val accuracy: 92.82\n",
      "#hdnn: 30, lr: 0.007 train accuracy: 92.19 val accuracy: 92.48\n",
      "#hdnn: 30, lr: 0.01 train accuracy: 92.92 val accuracy: 92.83\n",
      "#hdnn: 30, lr: 0.05 train accuracy: 91.40 val accuracy: 91.57\n",
      "#hdnn: 30, lr: 0.1 train accuracy: 89.86 val accuracy: 90.17\n",
      "#hdnn: 50, lr: 0.001 train accuracy: 90.96 val accuracy: 91.47\n",
      "#hdnn: 50, lr: 0.005 train accuracy: 94.46 val accuracy: 94.47\n",
      "#hdnn: 50, lr: 0.007 train accuracy: 94.22 val accuracy: 94.13\n",
      "#hdnn: 50, lr: 0.01 train accuracy: 94.63 val accuracy: 94.72\n",
      "#hdnn: 50, lr: 0.05 train accuracy: 92.85 val accuracy: 93.17\n",
      "#hdnn: 50, lr: 0.1 train accuracy: 91.80 val accuracy: 91.92\n",
      "#hdnn: 60, lr: 0.001 train accuracy: 91.94 val accuracy: 92.13\n",
      "#hdnn: 60, lr: 0.005 train accuracy: 94.65 val accuracy: 94.67\n",
      "#hdnn: 60, lr: 0.007 train accuracy: 94.93 val accuracy: 95.10\n",
      "#hdnn: 60, lr: 0.01 train accuracy: 95.31 val accuracy: 95.20\n",
      "#hdnn: 60, lr: 0.05 train accuracy: 94.37 val accuracy: 94.70\n",
      "#hdnn: 60, lr: 0.1 train accuracy: 92.05 val accuracy: 92.50\n",
      "#hdnn: 70, lr: 0.001 train accuracy: 92.40 val accuracy: 92.55\n",
      "#hdnn: 70, lr: 0.005 train accuracy: 95.18 val accuracy: 95.10\n",
      "#hdnn: 70, lr: 0.007 train accuracy: 95.60 val accuracy: 95.87\n",
      "#hdnn: 70, lr: 0.01 train accuracy: 96.00 val accuracy: 95.90\n",
      "#hdnn: 70, lr: 0.05 train accuracy: 94.75 val accuracy: 94.72\n",
      "#hdnn: 70, lr: 0.1 train accuracy: 93.12 val accuracy: 93.42\n",
      "#hdnn: 100, lr: 0.001 train accuracy: 93.25 val accuracy: 93.17\n",
      "#hdnn: 100, lr: 0.005 train accuracy: 96.28 val accuracy: 96.42\n",
      "#hdnn: 100, lr: 0.007 train accuracy: 96.44 val accuracy: 96.37\n",
      "#hdnn: 100, lr: 0.01 train accuracy: 96.74 val accuracy: 96.75\n",
      "#hdnn: 100, lr: 0.05 train accuracy: 95.97 val accuracy: 96.13\n",
      "#hdnn: 100, lr: 0.1 train accuracy: 93.20 val accuracy: 93.48\n",
      "Best validation accuracy achieved during cross-validation: 96.75 for #hdnn: 100, lr: 0.01\n"
     ]
    }
   ],
   "source": [
    "best_net = None # store the best model into this \n",
    "\n",
    "#################################################################################\n",
    "# TODO: Tune hyperparameters using the validation set. Store your best trained  #\n",
    "# model in best_net.                                                            #\n",
    "#################################################################################\n",
    "results = {}\n",
    "best_val = 0\n",
    "best_net = None\n",
    "learning_rates = [1e-3, 5e-3, 7e-3, 1e-2, 5e-2, 1e-1]\n",
    "num_hidden_nodes = [30, 50, 60, 70, 100]\n",
    "num_classes = 10\n",
    "num_iters = 5000\n",
    "num_epoch = 30\n",
    "batch_size = 256\n",
    "data_dimension = X_train.shape[1]\n",
    "\n",
    "for nhn in num_hidden_nodes:\n",
    "    for lr in learning_rates:\n",
    "        \n",
    "        net = FirstNN(data_dimension, nhn, num_classes)\n",
    "\n",
    "        # Train the network\n",
    "        stats = net.train(X_train, Y_train, X_val, Y_val, \n",
    "                          num_iters=num_iters,\n",
    "                          num_epoch=num_epoch,\n",
    "                          batch_size=batch_size, \n",
    "                          learning_rate=lr, \n",
    "                          verbose=False\n",
    "                         )\n",
    "            \n",
    "        # Predict on the train set\n",
    "        Y_train_pred = net.predict(X_train, best_param=True)\n",
    "        train_acc = 100*(Y_train_pred == Y_train).mean()\n",
    "\n",
    "        # Predict on the validation set\n",
    "        Y_val_pred = net.predict(X_val, best_param=True)\n",
    "        val_acc = 100*(Y_val_pred == Y_val).mean()\n",
    "\n",
    "        results[(nhn, lr)] = (train_acc, val_acc)\n",
    "        print('#hdnn: {}, lr: {} train accuracy: {:.2f} val accuracy: {:.2f}' .format(nhn, lr, train_acc, val_acc))\n",
    "        if best_val < val_acc:\n",
    "            best_val = val_acc\n",
    "            best_net = copy.deepcopy(net)\n",
    "\n",
    "# Print best results.\n",
    "print('Best validation accuracy achieved during cross-validation: {:.2f} for #hdnn: {}, lr: {}' .format(best_val, best_net.best_params['W1'].shape[1], best_net.learning_rate))\n",
    "#################################################################################\n",
    "#                               END OF YOUR CODE                                #\n",
    "#################################################################################"
   ]
  },
  {
   "cell_type": "markdown",
   "metadata": {},
   "source": [
    "# Test on best model"
   ]
  },
  {
   "cell_type": "code",
   "execution_count": 20,
   "metadata": {},
   "outputs": [
    {
     "name": "stdout",
     "output_type": "stream",
     "text": [
      "Train accuracy: 96.74\n",
      "Validation accuracy: 96.75\n",
      "Test accuracy: 95.13\n"
     ]
    }
   ],
   "source": [
    "# Predict on the train set\n",
    "Y_train_pred = best_net.predict(X_train, best_param=True)\n",
    "train_acc = 100*(Y_train_pred == Y_train).mean()\n",
    "print('Train accuracy: {:.2f}' .format(train_acc))\n",
    "\n",
    "# Predict on the validation set\n",
    "Y_val_pred = best_net.predict(X_val, best_param=True)\n",
    "val_acc = 100*(Y_val_pred == Y_val).mean()\n",
    "print('Validation accuracy: {:.2f}' .format(val_acc))\n",
    "\n",
    "# Predict on the test set\n",
    "Y_test_pred = best_net.predict(X_test, best_param=True)\n",
    "test_acc = 100*(Y_test_pred == Y_test).mean()\n",
    "print('Test accuracy: {:.2f}' .format(test_acc))"
   ]
  },
  {
   "cell_type": "code",
   "execution_count": null,
   "metadata": {},
   "outputs": [],
   "source": []
  }
 ],
 "metadata": {
  "kernelspec": {
   "display_name": "Python 3",
   "language": "python",
   "name": "python3"
  },
  "language_info": {
   "codemirror_mode": {
    "name": "ipython",
    "version": 3
   },
   "file_extension": ".py",
   "mimetype": "text/x-python",
   "name": "python",
   "nbconvert_exporter": "python",
   "pygments_lexer": "ipython3",
   "version": "3.10.12"
  }
 },
 "nbformat": 4,
 "nbformat_minor": 1
}
