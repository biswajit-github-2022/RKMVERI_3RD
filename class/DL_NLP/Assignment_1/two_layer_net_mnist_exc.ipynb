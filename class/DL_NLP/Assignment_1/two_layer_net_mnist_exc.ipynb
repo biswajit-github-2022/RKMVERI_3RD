{
 "cells": [
  {
   "cell_type": "markdown",
   "metadata": {},
   "source": [
    "# Implementing a simple two layers neural network\n",
    "In this exercise we will develop a two neural network with fully-connected layers to perform classification, and test it out on the MNIST dataset."
   ]
  },
  {
   "cell_type": "code",
   "execution_count": 1,
   "metadata": {},
   "outputs": [],
   "source": [
    "\"\"\"\n",
    "-----------------------------------------------------------------------------\n",
    "A simple two layers neural network for handwritten digit classification (MNIST)\n",
    "-----------------------------------------------------------------------------\n",
    "AUTHOR: Soumitra Samanta (soumitra.samanta@gm.rkmvu.ac.in)\n",
    "-----------------------------------------------------------------------------\n",
    "\"\"\"\n",
    "\n",
    "import gzip\n",
    "import numpy as np\n",
    "import matplotlib.pyplot as plt\n",
    "\n",
    "from first_nn_exc import *\n",
    "# from vis_utils import *\n",
    "\n",
    "# for auto-reloading external modules\n",
    "# see http://stackoverflow.com/questions/1907993/autoreload-of-modules-in-ipython\n",
    "%load_ext autoreload\n",
    "%autoreload 2\n"
   ]
  },
  {
   "cell_type": "markdown",
   "metadata": {},
   "source": [
    "# Read MNIST data:\n",
    "There are many [way](https://stackoverflow.com/questions/40427435/extract-images-from-idx3-ubyte-file-or-gzip-via-python) you can read the MNIST data. Here is a [way](https://stackoverflow.com/a/62781370) to read all the information."
   ]
  },
  {
   "cell_type": "code",
   "execution_count": 2,
   "metadata": {},
   "outputs": [
    {
     "name": "stdout",
     "output_type": "stream",
     "text": [
      "Train data (X) size: (60000, 28, 28), and labels (Y) size: (60000,)\n",
      "Test data (X) size: (10000, 28, 28), and labels (Y) size: (10000,)\n"
     ]
    },
    {
     "data": {
      "image/png": "[encoded data removed]",
      "text/plain": [
       "<Figure size 640x480 with 1 Axes>"
      ]
     },
     "metadata": {},
     "output_type": "display_data"
    }
   ],
   "source": [
    "def read_images(filename):\n",
    "    \"\"\"Read MNIST images\"\"\"\n",
    "    \n",
    "    with gzip.open(filename, 'r') as f:\n",
    "        # first 4 bytes is a magic number\n",
    "        magic_number = int.from_bytes(f.read(4), 'big')\n",
    "        # second 4 bytes is the number of images\n",
    "        image_count = int.from_bytes(f.read(4), 'big')\n",
    "        # third 4 bytes is the row count\n",
    "        row_count = int.from_bytes(f.read(4), 'big')\n",
    "        # fourth 4 bytes is the column count\n",
    "        column_count = int.from_bytes(f.read(4), 'big')\n",
    "        # rest is the image pixel data, each pixel is stored as an unsigned byte\n",
    "        # pixel values are 0 to 255\n",
    "        image_data = f.read()\n",
    "        images = np.frombuffer(image_data, dtype=np.uint8).reshape((image_count, row_count, column_count))\n",
    "        \n",
    "    return images\n",
    "\n",
    "def read_labels(filename):\n",
    "    \"\"\"Read MNIST labels\"\"\"\n",
    "    \n",
    "    with gzip.open(filename, 'r') as f:\n",
    "        # first 4 bytes is a magic number\n",
    "        magic_number = int.from_bytes(f.read(4), 'big')\n",
    "        # second 4 bytes is the number of labels\n",
    "        label_count = int.from_bytes(f.read(4), 'big')\n",
    "        # rest is the label data, each label is stored as unsigned byte\n",
    "        # label values are 0 to 9\n",
    "        label_data = f.read()\n",
    "        labels = np.frombuffer(label_data, dtype=np.uint8)\n",
    "        \n",
    "    return labels\n",
    "\n",
    "\n",
    "dataset_path = ''\n",
    "\n",
    "train_image_filename = ''.join([dataset_path, 'train-images-idx3-ubyte.gz'])\n",
    "train_label_filename = ''.join([dataset_path, 'train-labels-idx1-ubyte.gz'])\n",
    "\n",
    "test_image_filename = ''.join([dataset_path, 't10k-images-idx3-ubyte.gz'])\n",
    "test_label_filename = ''.join([dataset_path, 't10k-labels-idx1-ubyte.gz'])\n",
    "\n",
    "train_images = read_images(train_image_filename)\n",
    "train_labels = read_labels(train_label_filename)\n",
    "\n",
    "print('Train data (X) size: {}, and labels (Y) size: {}' .format(train_images.shape, train_labels.shape))\n",
    "\n",
    "test_images = read_images(test_image_filename)\n",
    "test_labels = read_labels(test_label_filename)\n",
    "\n",
    "print('Test data (X) size: {}, and labels (Y) size: {}' .format(test_images.shape, test_labels.shape))\n",
    "\n",
    "\n",
    "\n",
    "rand_ids = np.random.choice(train_images.shape[0])\n",
    "plt.imshow(train_images[rand_ids, :, :], cmap='gray')\n",
    "plt.title('class-'+str(train_labels[rand_ids]))\n",
    "plt.show()\n",
    "\n"
   ]
  },
  {
   "cell_type": "markdown",
   "metadata": {},
   "source": [
    "# TODO: Create a validation data from training data (10%) and transform the data in $\\mathbf{R}^d$."
   ]
  },
  {
   "cell_type": "code",
   "execution_count": 3,
   "metadata": {},
   "outputs": [
    {
     "name": "stdout",
     "output_type": "stream",
     "text": [
      "X_train shape: (53994, 784)\n",
      "Y_train shape: (53994,)\n",
      "X_val shape: (6006, 784)\n",
      "Y_val shape: (6006,)\n",
      "X_test shape: (10000, 784)\n",
      "Y_test shape: (10000,)\n",
      "After reshape\n",
      "\n",
      "Train data (X) size: (53994, 784), and labels (Y) size: (53994,)\n",
      "Val data (X) size: (6006, 784), and labels (Y) size: (6006,)\n",
      "Test data (X) size: (10000, 784), and labels (Y) size: (10000,)\n"
     ]
    }
   ],
   "source": [
    "\n",
    "from sklearn.model_selection import train_test_split\n",
    "# Assuming X and Y are your training data and labels\n",
    "X = train_images  # Example data\n",
    "Y = train_labels  # Example labels\n",
    "\n",
    "# Flatten the data\n",
    "X_flat = X.reshape(60000, -1)\n",
    "\n",
    "# Initialize lists for train and validation sets\n",
    "X_train = []\n",
    "Y_train = []\n",
    "X_val = []\n",
    "Y_val = []\n",
    "\n",
    "# Split data class-wise\n",
    "for label in np.unique(Y):\n",
    "    # Get all indices for the current label\n",
    "    indices = np.where(Y == label)[0]\n",
    "    X_class = X_flat[indices]\n",
    "    Y_class = Y[indices]\n",
    "    \n",
    "    # Split class data into train and validation sets\n",
    "    X_train_class, X_val_class, Y_train_class, Y_val_class = train_test_split(\n",
    "        X_class, Y_class, test_size=0.1, random_state=42)\n",
    "    \n",
    "    # Append to the final lists\n",
    "    X_train.extend(X_train_class)\n",
    "    Y_train.extend(Y_train_class)\n",
    "    X_val.extend(X_val_class)\n",
    "    Y_val.extend(Y_val_class)\n",
    "\n",
    "# Convert lists to numpy arrays\n",
    "X_train = np.array(X_train)\n",
    "Y_train = np.array(Y_train)\n",
    "X_val = np.array(X_val)\n",
    "Y_val = np.array(Y_val)\n",
    "\n",
    "# Assuming test data is given\n",
    "X_test = test_images  # Example data\n",
    "Y_test = test_labels  # Example labels\n",
    "\n",
    "# Flatten test data\n",
    "X_test = X_test.reshape(10000, -1)\n",
    "\n",
    "# Print the shapes of the final datasets\n",
    "print(\"X_train shape:\", X_train.shape)\n",
    "print(\"Y_train shape:\", Y_train.shape)\n",
    "print(\"X_val shape:\", X_val.shape)\n",
    "print(\"Y_val shape:\", Y_val.shape)\n",
    "print(\"X_test shape:\", X_test.shape)\n",
    "print(\"Y_test shape:\", Y_test.shape)\n",
    "\n",
    "\n",
    "print('After reshape\\n')\n",
    "print('Train data (X) size: {}, and labels (Y) size: {}' .format(X_train.shape, Y_train.shape))\n",
    "print('Val data (X) size: {}, and labels (Y) size: {}' .format(X_val.shape, Y_val.shape))\n",
    "print('Test data (X) size: {}, and labels (Y) size: {}' .format(X_test.shape, Y_test.shape))\n",
    "\n",
    "\n",
    "\n",
    "                        \n",
    "                        "
   ]
  },
  {
   "cell_type": "markdown",
   "metadata": {},
   "source": [
    "# Train a network\n",
    "To train our network we will use SGD . In addition, we will adjust the learning rate with an exponential learning rate schedule as optimization proceeds; after each epoch, we will reduce the learning rate by multiplying it by a decay rate."
   ]
  },
  {
   "cell_type": "code",
   "execution_count": 4,
   "metadata": {},
   "outputs": [
    {
     "name": "stdout",
     "output_type": "stream",
     "text": [
      "iteration 0 / 10000: loss 2.302581750467569\n",
      "iteration 100 / 10000: loss 1.9300334469650466\n",
      "iteration 200 / 10000: loss 1.6771646232593116\n",
      "iteration 300 / 10000: loss 1.4322219528940434\n",
      "iteration 400 / 10000: loss 1.2835903255172707\n",
      "iteration 500 / 10000: loss 1.177133316130884\n",
      "iteration 600 / 10000: loss 1.1877443120987858\n",
      "iteration 700 / 10000: loss 1.0873459049382201\n",
      "iteration 800 / 10000: loss 0.9201439428385584\n",
      "iteration 900 / 10000: loss 0.8903329706327782\n",
      "iteration 1000 / 10000: loss 0.7543850267038562\n",
      "iteration 1100 / 10000: loss 0.8688982474722028\n",
      "iteration 1200 / 10000: loss 0.8143484326497691\n",
      "iteration 1300 / 10000: loss 0.6491906744648648\n",
      "iteration 1400 / 10000: loss 0.7044781395973012\n",
      "iteration 1500 / 10000: loss 0.6626884361176105\n",
      "iteration 1600 / 10000: loss 0.5933926887667096\n",
      "iteration 1700 / 10000: loss 0.5540469162600473\n",
      "iteration 1800 / 10000: loss 0.5099326237580339\n",
      "iteration 1900 / 10000: loss 0.45172219753350795\n",
      "iteration 2000 / 10000: loss 0.4710782065921864\n",
      "iteration 2100 / 10000: loss 0.4921432187582825\n",
      "iteration 2200 / 10000: loss 0.46241357746616285\n",
      "iteration 2300 / 10000: loss 0.42751862987844275\n",
      "iteration 2400 / 10000: loss 0.4995915192643292\n",
      "iteration 2500 / 10000: loss 0.4262828626945003\n",
      "iteration 2600 / 10000: loss 0.3345277104929296\n",
      "iteration 2700 / 10000: loss 0.37097893689225303\n",
      "iteration 2800 / 10000: loss 0.39869371358764316\n",
      "iteration 2900 / 10000: loss 0.3575979951054608\n",
      "iteration 3000 / 10000: loss 0.36814297975315396\n",
      "iteration 3100 / 10000: loss 0.35236326284723957\n",
      "iteration 3200 / 10000: loss 0.36925281722519016\n",
      "iteration 3300 / 10000: loss 0.3756328954654569\n",
      "iteration 3400 / 10000: loss 0.3434658277393367\n",
      "iteration 3500 / 10000: loss 0.20938728207713453\n",
      "iteration 3600 / 10000: loss 0.339339682600189\n",
      "iteration 3700 / 10000: loss 0.3905767801645464\n",
      "iteration 3800 / 10000: loss 0.27623861282195994\n",
      "iteration 3900 / 10000: loss 0.30357546094714943\n",
      "iteration 4000 / 10000: loss 0.2947166848944915\n",
      "iteration 4100 / 10000: loss 0.3820937727405776\n",
      "iteration 4200 / 10000: loss 0.30234996066611397\n",
      "iteration 4300 / 10000: loss 0.24964809409677508\n",
      "iteration 4400 / 10000: loss 0.291427780091279\n",
      "iteration 4500 / 10000: loss 0.30245111185976425\n",
      "iteration 4600 / 10000: loss 0.247043531069982\n",
      "iteration 4700 / 10000: loss 0.2496481972276817\n",
      "iteration 4800 / 10000: loss 0.3459468494096856\n",
      "iteration 4900 / 10000: loss 0.3014101142847818\n",
      "iteration 5000 / 10000: loss 0.2532138587435767\n",
      "iteration 5100 / 10000: loss 0.2838251608557011\n",
      "iteration 5200 / 10000: loss 0.26719668894780674\n",
      "iteration 5300 / 10000: loss 0.2689305328394623\n",
      "iteration 5400 / 10000: loss 0.23697706596372164\n",
      "iteration 5500 / 10000: loss 0.25547772280558334\n",
      "iteration 5600 / 10000: loss 0.30683014448432966\n",
      "iteration 5700 / 10000: loss 0.3174796082776029\n",
      "iteration 5800 / 10000: loss 0.2490665071498006\n",
      "iteration 5900 / 10000: loss 0.20779820306391877\n",
      "iteration 6000 / 10000: loss 0.33140111220144136\n",
      "iteration 6100 / 10000: loss 0.2043528497566661\n",
      "iteration 6200 / 10000: loss 0.26882548289353003\n",
      "iteration 6300 / 10000: loss 0.26719337905796425\n",
      "iteration 6400 / 10000: loss 0.2715468183743615\n",
      "iteration 6500 / 10000: loss 0.291964170000653\n",
      "iteration 6600 / 10000: loss 0.22549790507312956\n",
      "iteration 6700 / 10000: loss 0.23961880625301152\n",
      "iteration 6800 / 10000: loss 0.23787437159593927\n",
      "iteration 6900 / 10000: loss 0.26433482832721306\n",
      "iteration 7000 / 10000: loss 0.24061319693070288\n",
      "iteration 7100 / 10000: loss 0.24002234350302648\n",
      "iteration 7200 / 10000: loss 0.30926780191069414\n",
      "iteration 7300 / 10000: loss 0.2240991762917143\n",
      "iteration 7400 / 10000: loss 0.28861161098709265\n",
      "iteration 7500 / 10000: loss 0.2996675451857751\n"
     ]
    },
    {
     "name": "stderr",
     "output_type": "stream",
     "text": [
      "d:\\MSC\\3rd_sem\\class\\DL_NLP\\Assignment_1\\first_nn_exc.py:21: RuntimeWarning: overflow encountered in exp\n",
      "  return 1/(1 + np.exp(-z))\n"
     ]
    },
    {
     "name": "stdout",
     "output_type": "stream",
     "text": [
      "iteration 7600 / 10000: loss 0.18674105912936942\n",
      "iteration 7700 / 10000: loss 0.41213902117808243\n",
      "iteration 7800 / 10000: loss 0.27411122319867154\n",
      "iteration 7900 / 10000: loss 0.29560709985188116\n",
      "iteration 8000 / 10000: loss 0.1844736998893704\n",
      "iteration 8100 / 10000: loss 0.22124533283630973\n",
      "iteration 8200 / 10000: loss 0.21698094228929732\n",
      "iteration 8300 / 10000: loss 0.2580969091032755\n",
      "iteration 8400 / 10000: loss 0.28267194052144407\n",
      "iteration 8500 / 10000: loss 0.22627198814878896\n",
      "iteration 8600 / 10000: loss 0.23463953732992593\n",
      "iteration 8700 / 10000: loss 0.18979007624706226\n",
      "iteration 8800 / 10000: loss 0.2621893352106533\n",
      "iteration 8900 / 10000: loss 0.1828750625420877\n",
      "iteration 9000 / 10000: loss 0.2933517779975921\n",
      "iteration 9100 / 10000: loss 0.1763884122282392\n",
      "iteration 9200 / 10000: loss 0.1607084591843037\n",
      "iteration 9300 / 10000: loss 0.20106743987462872\n",
      "iteration 9400 / 10000: loss 0.23004535025945871\n",
      "iteration 9500 / 10000: loss 0.1998747719469978\n",
      "iteration 9600 / 10000: loss 0.21298905183068972\n",
      "iteration 9700 / 10000: loss 0.2205812687754419\n",
      "iteration 9800 / 10000: loss 0.16028127241649123\n",
      "iteration 9900 / 10000: loss 0.21535745510899865\n",
      "Train accuracy:  0.9446234766825944\n"
     ]
    }
   ],
   "source": [
    "input_size = X_train.shape[1]\n",
    "hidden_size = 50\n",
    "num_classes = 10\n",
    "net = FirstNN(input_size, hidden_size, num_classes)\n",
    "\n",
    "# Train the network\n",
    "stats = net.train(X_train, Y_train, X_val, Y_val,\n",
    "            num_iters=10000, batch_size=200,\n",
    "            learning_rate=1e-2, learning_rate_decay=0.95,\n",
    "            reg=0.0, verbose=True)\n",
    "\n",
    "# Predict on the train set\n",
    "train_acc = (net.predict(X_train) == Y_train).mean()\n",
    "print('Train accuracy: ', train_acc)\n",
    "\n"
   ]
  },
  {
   "cell_type": "code",
   "execution_count": 5,
   "metadata": {},
   "outputs": [
    {
     "name": "stdout",
     "output_type": "stream",
     "text": [
      "Validation accuracy:  0.927905427905428\n",
      "Test accuracy:  0.9341\n"
     ]
    }
   ],
   "source": [
    "# Predict on the validation set\n",
    "val_acc = (net.predict(X_val) == Y_val).mean()\n",
    "print('Validation accuracy: ', val_acc)\n",
    "\n",
    "# Predict on the test set\n",
    "test_acc = (net.predict(X_test) == Y_test).mean()\n",
    "print('Test accuracy: ', test_acc)"
   ]
  },
  {
   "cell_type": "markdown",
   "metadata": {},
   "source": [
    "# Plot the loss."
   ]
  },
  {
   "cell_type": "code",
   "execution_count": 6,
   "metadata": {},
   "outputs": [
    {
     "data": {
      "text/plain": [
       "Text(0, 0.5, 'Loss')"
      ]
     },
     "execution_count": 6,
     "metadata": {},
     "output_type": "execute_result"
    },
    {
     "data": {
      "image/png": "[encoded data removed]",
      "text/plain": [
       "<Figure size 640x480 with 1 Axes>"
      ]
     },
     "metadata": {},
     "output_type": "display_data"
    }
   ],
   "source": [
    "# Plot the loss function and train / validation accuracies\n",
    "plt.subplot(2, 1, 1)\n",
    "plt.plot(stats['loss_history'])\n",
    "plt.title('Loss history')\n",
    "plt.xlabel('Iteration')\n",
    "plt.ylabel('Loss')\n",
    "\n"
   ]
  },
  {
   "cell_type": "code",
   "execution_count": null,
   "metadata": {
    "collapsed": true
   },
   "outputs": [],
   "source": []
  }
 ],
 "metadata": {
  "kernelspec": {
   "display_name": "Python 3",
   "language": "python",
   "name": "python3"
  },
  "language_info": {
   "codemirror_mode": {
    "name": "ipython",
    "version": 3
   },
   "file_extension": ".py",
   "mimetype": "text/x-python",
   "name": "python",
   "nbconvert_exporter": "python",
   "pygments_lexer": "ipython3",
   "version": "3.10.5"
  }
 },
 "nbformat": 4,
 "nbformat_minor": 1
}
