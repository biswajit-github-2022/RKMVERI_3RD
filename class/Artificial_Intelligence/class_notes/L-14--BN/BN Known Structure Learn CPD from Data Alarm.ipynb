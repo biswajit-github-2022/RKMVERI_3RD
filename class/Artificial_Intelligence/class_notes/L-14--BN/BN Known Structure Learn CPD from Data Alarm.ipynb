{
 "cells": [
  {
   "cell_type": "code",
   "execution_count": 1,
   "metadata": {},
   "outputs": [],
   "source": [
    "import pandas as pd\n",
    "from pgmpy.models import BayesianNetwork  # Use BayesianNetwork instead of BayesianModel\n",
    "from pgmpy.estimators import MaximumLikelihoodEstimator, BayesianEstimator\n",
    "\n",
    "# Define the model structure\n",
    "model = BayesianNetwork([\n",
    "    ('Burglary', 'Alarm'),\n",
    "    ('Earthquake', 'Alarm'),\n",
    "    ('Alarm', 'JohnCalls'),\n",
    "    ('Alarm', 'MaryCalls')\n",
    "])\n",
    "\n",
    "# Create a synthetic dataset\n",
    "data = pd.DataFrame(data={\n",
    "    'Burglary': [0, 1, 0, 1, 0, 1, 0, 1],\n",
    "    'Earthquake': [0, 0, 1, 1, 0, 0, 1, 1],\n",
    "    'Alarm': [0, 1, 1, 1, 0, 1, 1, 1],\n",
    "    'JohnCalls': [0, 1, 0, 1, 1, 0, 1, 1],\n",
    "    'MaryCalls': [1, 0, 1, 0, 1, 1, 0, 1]\n",
    "})\n",
    "\n",
    "\n"
   ]
  },
  {
   "cell_type": "code",
   "execution_count": 3,
   "metadata": {},
   "outputs": [
    {
     "name": "stderr",
     "output_type": "stream",
     "text": [
      "WARNING:pgmpy:Replacing existing CPD for Burglary\n",
      "WARNING:pgmpy:Replacing existing CPD for Alarm\n",
      "WARNING:pgmpy:Replacing existing CPD for Earthquake\n",
      "WARNING:pgmpy:Replacing existing CPD for JohnCalls\n",
      "WARNING:pgmpy:Replacing existing CPD for MaryCalls\n"
     ]
    },
    {
     "name": "stdout",
     "output_type": "stream",
     "text": [
      "Fitting model using Maximum Likelihood Estimation (MLE):\n",
      "CPD of Burglary:\n",
      "+-------------+-----+\n",
      "| Burglary(0) | 0.5 |\n",
      "+-------------+-----+\n",
      "| Burglary(1) | 0.5 |\n",
      "+-------------+-----+\n",
      "\n",
      "CPD of Alarm:\n",
      "+------------+---------------+---------------+---------------+---------------+\n",
      "| Burglary   | Burglary(0)   | Burglary(0)   | Burglary(1)   | Burglary(1)   |\n",
      "+------------+---------------+---------------+---------------+---------------+\n",
      "| Earthquake | Earthquake(0) | Earthquake(1) | Earthquake(0) | Earthquake(1) |\n",
      "+------------+---------------+---------------+---------------+---------------+\n",
      "| Alarm(0)   | 1.0           | 0.0           | 0.0           | 0.0           |\n",
      "+------------+---------------+---------------+---------------+---------------+\n",
      "| Alarm(1)   | 0.0           | 1.0           | 1.0           | 1.0           |\n",
      "+------------+---------------+---------------+---------------+---------------+\n",
      "\n",
      "CPD of Earthquake:\n",
      "+---------------+-----+\n",
      "| Earthquake(0) | 0.5 |\n",
      "+---------------+-----+\n",
      "| Earthquake(1) | 0.5 |\n",
      "+---------------+-----+\n",
      "\n",
      "CPD of JohnCalls:\n",
      "+--------------+----------+--------------------+\n",
      "| Alarm        | Alarm(0) | Alarm(1)           |\n",
      "+--------------+----------+--------------------+\n",
      "| JohnCalls(0) | 0.5      | 0.3333333333333333 |\n",
      "+--------------+----------+--------------------+\n",
      "| JohnCalls(1) | 0.5      | 0.6666666666666666 |\n",
      "+--------------+----------+--------------------+\n",
      "\n",
      "CPD of MaryCalls:\n",
      "+--------------+----------+----------+\n",
      "| Alarm        | Alarm(0) | Alarm(1) |\n",
      "+--------------+----------+----------+\n",
      "| MaryCalls(0) | 0.0      | 0.5      |\n",
      "+--------------+----------+----------+\n",
      "| MaryCalls(1) | 1.0      | 0.5      |\n",
      "+--------------+----------+----------+\n",
      "\n"
     ]
    }
   ],
   "source": [
    "# Fit the model using Maximum Likelihood Estimation (MLE)\n",
    "print(\"Fitting model using Maximum Likelihood Estimation (MLE):\")\n",
    "model.fit(data, estimator=MaximumLikelihoodEstimator)\n",
    "\n",
    "# View the learned CPDs\n",
    "for cpd in model.get_cpds():\n",
    "    print(f\"CPD of {cpd.variable}:\\n{cpd}\\n\")\n",
    "\n"
   ]
  },
  {
   "cell_type": "code",
   "execution_count": 4,
   "metadata": {},
   "outputs": [
    {
     "name": "stdout",
     "output_type": "stream",
     "text": [
      "Fitting model using Bayesian Estimation:\n",
      "CPD of Burglary:\n",
      "+-------------+-----+\n",
      "| Burglary(0) | 0.5 |\n",
      "+-------------+-----+\n",
      "| Burglary(1) | 0.5 |\n",
      "+-------------+-----+\n",
      "\n",
      "CPD of Alarm:\n",
      "+------------+---------------------+-----+---------------------+\n",
      "| Burglary   | Burglary(0)         | ... | Burglary(1)         |\n",
      "+------------+---------------------+-----+---------------------+\n",
      "| Earthquake | Earthquake(0)       | ... | Earthquake(1)       |\n",
      "+------------+---------------------+-----+---------------------+\n",
      "| Alarm(0)   | 0.8076923076923077  | ... | 0.19230769230769232 |\n",
      "+------------+---------------------+-----+---------------------+\n",
      "| Alarm(1)   | 0.19230769230769232 | ... | 0.8076923076923077  |\n",
      "+------------+---------------------+-----+---------------------+\n",
      "\n",
      "CPD of Earthquake:\n",
      "+---------------+-----+\n",
      "| Earthquake(0) | 0.5 |\n",
      "+---------------+-----+\n",
      "| Earthquake(1) | 0.5 |\n",
      "+---------------+-----+\n",
      "\n",
      "CPD of JohnCalls:\n",
      "+--------------+----------+---------------------+\n",
      "| Alarm        | Alarm(0) | Alarm(1)            |\n",
      "+--------------+----------+---------------------+\n",
      "| JohnCalls(0) | 0.5      | 0.38235294117647056 |\n",
      "+--------------+----------+---------------------+\n",
      "| JohnCalls(1) | 0.5      | 0.6176470588235294  |\n",
      "+--------------+----------+---------------------+\n",
      "\n",
      "CPD of MaryCalls:\n",
      "+--------------+--------------------+----------+\n",
      "| Alarm        | Alarm(0)           | Alarm(1) |\n",
      "+--------------+--------------------+----------+\n",
      "| MaryCalls(0) | 0.2777777777777778 | 0.5      |\n",
      "+--------------+--------------------+----------+\n",
      "| MaryCalls(1) | 0.7222222222222222 | 0.5      |\n",
      "+--------------+--------------------+----------+\n",
      "\n"
     ]
    }
   ],
   "source": [
    "# Fit the model using Bayesian Estimation with pseudo-counts\n",
    "print(\"Fitting model using Bayesian Estimation:\")\n",
    "model.fit(data, estimator=BayesianEstimator, prior_type=\"BDeu\", equivalent_sample_size=5)\n",
    "\n",
    "# View the learned CPDs with Bayesian Estimation\n",
    "for cpd in model.get_cpds():\n",
    "    print(f\"CPD of {cpd.variable}:\\n{cpd}\\n\")"
   ]
  },
  {
   "cell_type": "code",
   "execution_count": null,
   "metadata": {},
   "outputs": [],
   "source": []
  }
 ],
 "metadata": {
  "kernelspec": {
   "display_name": "Python 3",
   "language": "python",
   "name": "python3"
  },
  "language_info": {
   "codemirror_mode": {
    "name": "ipython",
    "version": 3
   },
   "file_extension": ".py",
   "mimetype": "text/x-python",
   "name": "python",
   "nbconvert_exporter": "python",
   "pygments_lexer": "ipython3",
   "version": "3.7.9"
  }
 },
 "nbformat": 4,
 "nbformat_minor": 4
}
