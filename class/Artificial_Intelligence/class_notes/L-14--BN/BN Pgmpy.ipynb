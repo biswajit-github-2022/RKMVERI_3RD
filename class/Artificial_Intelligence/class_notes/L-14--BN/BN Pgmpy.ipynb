{
 "cells": [
  {
   "cell_type": "code",
   "execution_count": 5,
   "metadata": {},
   "outputs": [],
   "source": [
    "from pgmpy.models import BayesianNetwork\n",
    "from pgmpy.factors.discrete import TabularCPD\n",
    "from pgmpy.inference import VariableElimination\n",
    "\n",
    "# Define the structure of the Alarm Bayesian Network\n",
    "model = BayesianNetwork([('Burglary', 'Alarm'),\n",
    "                         ('Earthquake', 'Alarm'),\n",
    "                         ('Alarm', 'JohnCalls'),\n",
    "                         ('Alarm', 'MaryCalls')])\n",
    "\n",
    "\n"
   ]
  },
  {
   "cell_type": "code",
   "execution_count": 18,
   "metadata": {},
   "outputs": [
    {
     "name": "stdout",
     "output_type": "stream",
     "text": [
      "Earthquake is independent of Burglary given Alarm: False\n",
      "Earthquake is independent of Burglary: True\n",
      "JohnCalls is independent of MaryCalls given Alarm: True\n",
      "JohnCalls is independent of MaryCalls False\n"
     ]
    }
   ],
   "source": [
    "result1 = model.is_dconnected('Earthquake', 'Burglary', observed=['Alarm'])\n",
    "print(\"Earthquake is independent of Burglary given Alarm:\", not result1)\n",
    "\n",
    "\n",
    "result2 = model.is_dconnected('Earthquake', 'Burglary', observed=[])\n",
    "print(\"Earthquake is independent of Burglary:\", not result2)\n",
    "\n",
    "\n",
    "result3 = model.is_dconnected('JohnCalls', 'MaryCalls', observed=['Alarm'])\n",
    "print(\"JohnCalls is independent of MaryCalls given Alarm:\",not result3)\n",
    "\n",
    "\n",
    "result4 = model.is_dconnected('JohnCalls', 'MaryCalls', observed=[])\n",
    "print(\"JohnCalls is independent of MaryCalls\", not result4)"
   ]
  },
  {
   "cell_type": "code",
   "execution_count": 19,
   "metadata": {},
   "outputs": [
    {
     "name": "stdout",
     "output_type": "stream",
     "text": [
      "(Burglary ⟂ Earthquake)\n",
      "(Burglary ⟂ MaryCalls, JohnCalls | Alarm)\n",
      "(Burglary ⟂ JohnCalls | MaryCalls, Alarm)\n",
      "(Burglary ⟂ MaryCalls | JohnCalls, Alarm)\n",
      "(Burglary ⟂ MaryCalls, JohnCalls | Earthquake, Alarm)\n",
      "(Burglary ⟂ JohnCalls | MaryCalls, Earthquake, Alarm)\n",
      "(Burglary ⟂ MaryCalls | JohnCalls, Earthquake, Alarm)\n",
      "(MaryCalls ⟂ Burglary, JohnCalls, Earthquake | Alarm)\n",
      "(MaryCalls ⟂ JohnCalls, Earthquake | Burglary, Alarm)\n",
      "(MaryCalls ⟂ Burglary, Earthquake | JohnCalls, Alarm)\n",
      "(MaryCalls ⟂ Burglary, JohnCalls | Earthquake, Alarm)\n",
      "(MaryCalls ⟂ Earthquake | Burglary, JohnCalls, Alarm)\n",
      "(MaryCalls ⟂ JohnCalls | Burglary, Earthquake, Alarm)\n",
      "(MaryCalls ⟂ Burglary | JohnCalls, Earthquake, Alarm)\n",
      "(JohnCalls ⟂ Burglary, Earthquake, MaryCalls | Alarm)\n",
      "(JohnCalls ⟂ MaryCalls, Earthquake | Burglary, Alarm)\n",
      "(JohnCalls ⟂ Burglary, MaryCalls | Earthquake, Alarm)\n",
      "(JohnCalls ⟂ Burglary, Earthquake | MaryCalls, Alarm)\n",
      "(JohnCalls ⟂ MaryCalls | Burglary, Earthquake, Alarm)\n",
      "(JohnCalls ⟂ Earthquake | Burglary, MaryCalls, Alarm)\n",
      "(JohnCalls ⟂ Burglary | MaryCalls, Earthquake, Alarm)\n",
      "(Earthquake ⟂ Burglary)\n",
      "(Earthquake ⟂ MaryCalls, JohnCalls | Alarm)\n",
      "(Earthquake ⟂ MaryCalls, JohnCalls | Burglary, Alarm)\n",
      "(Earthquake ⟂ MaryCalls | JohnCalls, Alarm)\n",
      "(Earthquake ⟂ JohnCalls | MaryCalls, Alarm)\n",
      "(Earthquake ⟂ MaryCalls | Burglary, JohnCalls, Alarm)\n",
      "(Earthquake ⟂ JohnCalls | Burglary, MaryCalls, Alarm)\n"
     ]
    }
   ],
   "source": [
    "independencies = model.get_independencies()\n",
    "print(independencies)"
   ]
  },
  {
   "cell_type": "code",
   "execution_count": 20,
   "metadata": {},
   "outputs": [],
   "source": [
    "# Define the CPDs (Conditional Probability Distributions)\n",
    "\n",
    "# Burglary has no parent nodes\n",
    "cpd_burglary = TabularCPD(variable='Burglary', variable_card=2,\n",
    "                          values=[[0.999], [0.001]])\n",
    "\n",
    "# Earthquake has no parent nodes\n",
    "cpd_earthquake = TabularCPD(variable='Earthquake', variable_card=2,\n",
    "                            values=[[0.998], [0.002]])\n",
    "\n",
    "# Alarm depends on Burglary and Earthquake\n",
    "cpd_alarm = TabularCPD(variable='Alarm', variable_card=2,\n",
    "                       values=[[0.999, 0.71, 0.06, 0.05],  # P(Alarm=0 | B, E)\n",
    "                               [0.001, 0.29, 0.94, 0.95]],  # P(Alarm=1 | B, E)\n",
    "                       evidence=['Burglary', 'Earthquake'],\n",
    "                       evidence_card=[2, 2])\n",
    "\n",
    "# JohnCalls depends on Alarm\n",
    "cpd_john_calls = TabularCPD(variable='JohnCalls', variable_card=2,\n",
    "                            values=[[0.95, 0.1],  # P(JohnCalls=0 | Alarm)\n",
    "                                    [0.05, 0.9]],  # P(JohnCalls=1 | Alarm)\n",
    "                            evidence=['Alarm'],\n",
    "                            evidence_card=[2])\n",
    "\n",
    "# MaryCalls depends on Alarm\n",
    "cpd_mary_calls = TabularCPD(variable='MaryCalls', variable_card=2,\n",
    "                            values=[[0.99, 0.3],  # P(MaryCalls=0 | Alarm)\n",
    "                                    [0.01, 0.7]],  # P(MaryCalls=1 | Alarm)\n",
    "                            evidence=['Alarm'],\n",
    "                            evidence_card=[2])"
   ]
  },
  {
   "cell_type": "code",
   "execution_count": 21,
   "metadata": {},
   "outputs": [
    {
     "name": "stdout",
     "output_type": "stream",
     "text": [
      "Conditional Probability Distributions (CPDs):\n",
      "+-------------+-------+\n",
      "| Burglary(0) | 0.999 |\n",
      "+-------------+-------+\n",
      "| Burglary(1) | 0.001 |\n",
      "+-------------+-------+\n",
      "+---------------+-------+\n",
      "| Earthquake(0) | 0.998 |\n",
      "+---------------+-------+\n",
      "| Earthquake(1) | 0.002 |\n",
      "+---------------+-------+\n",
      "+------------+---------------+---------------+---------------+---------------+\n",
      "| Burglary   | Burglary(0)   | Burglary(0)   | Burglary(1)   | Burglary(1)   |\n",
      "+------------+---------------+---------------+---------------+---------------+\n",
      "| Earthquake | Earthquake(0) | Earthquake(1) | Earthquake(0) | Earthquake(1) |\n",
      "+------------+---------------+---------------+---------------+---------------+\n",
      "| Alarm(0)   | 0.999         | 0.71          | 0.06          | 0.05          |\n",
      "+------------+---------------+---------------+---------------+---------------+\n",
      "| Alarm(1)   | 0.001         | 0.29          | 0.94          | 0.95          |\n",
      "+------------+---------------+---------------+---------------+---------------+\n",
      "+--------------+----------+----------+\n",
      "| Alarm        | Alarm(0) | Alarm(1) |\n",
      "+--------------+----------+----------+\n",
      "| JohnCalls(0) | 0.95     | 0.1      |\n",
      "+--------------+----------+----------+\n",
      "| JohnCalls(1) | 0.05     | 0.9      |\n",
      "+--------------+----------+----------+\n",
      "+--------------+----------+----------+\n",
      "| Alarm        | Alarm(0) | Alarm(1) |\n",
      "+--------------+----------+----------+\n",
      "| MaryCalls(0) | 0.99     | 0.3      |\n",
      "+--------------+----------+----------+\n",
      "| MaryCalls(1) | 0.01     | 0.7      |\n",
      "+--------------+----------+----------+\n"
     ]
    }
   ],
   "source": [
    "# Add the CPDs to the model\n",
    "model.add_cpds(cpd_burglary, cpd_earthquake, cpd_alarm, cpd_john_calls, cpd_mary_calls)\n",
    "\n",
    "# Verify if the model is valid\n",
    "assert model.check_model()\n",
    "\n",
    "# Print the CPDs to verify\n",
    "print(\"Conditional Probability Distributions (CPDs):\")\n",
    "for cpd in model.get_cpds():\n",
    "    print(cpd)"
   ]
  },
  {
   "cell_type": "code",
   "execution_count": 25,
   "metadata": {},
   "outputs": [
    {
     "name": "stdout",
     "output_type": "stream",
     "text": [
      "\n",
      "Probability of Burglary given that both John and Mary called:\n",
      "+-------------+-----------------+\n",
      "| Burglary    |   phi(Burglary) |\n",
      "+=============+=================+\n",
      "| Burglary(0) |          0.7158 |\n",
      "+-------------+-----------------+\n",
      "| Burglary(1) |          0.2842 |\n",
      "+-------------+-----------------+\n"
     ]
    }
   ],
   "source": [
    "# Perform inference on the model\n",
    "inference = VariableElimination(model)\n",
    "\n",
    "# Example Query: Probability of a Burglary given that both John and Mary called\n",
    "query_result = inference.query(variables=['Burglary'], evidence={'JohnCalls': 1, 'MaryCalls': 1})\n",
    "print(\"\\nProbability of Burglary given that both John and Mary called:\")\n",
    "print(query_result)"
   ]
  },
  {
   "cell_type": "code",
   "execution_count": null,
   "metadata": {},
   "outputs": [],
   "source": []
  },
  {
   "cell_type": "code",
   "execution_count": null,
   "metadata": {},
   "outputs": [],
   "source": []
  }
 ],
 "metadata": {
  "kernelspec": {
   "display_name": "Python 3",
   "language": "python",
   "name": "python3"
  },
  "language_info": {
   "codemirror_mode": {
    "name": "ipython",
    "version": 3
   },
   "file_extension": ".py",
   "mimetype": "text/x-python",
   "name": "python",
   "nbconvert_exporter": "python",
   "pygments_lexer": "ipython3",
   "version": "3.7.9"
  }
 },
 "nbformat": 4,
 "nbformat_minor": 4
}
