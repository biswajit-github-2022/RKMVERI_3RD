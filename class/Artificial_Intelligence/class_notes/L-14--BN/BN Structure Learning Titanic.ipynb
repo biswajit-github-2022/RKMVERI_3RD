{
 "cells": [
  {
   "cell_type": "code",
   "execution_count": 2,
   "metadata": {},
   "outputs": [],
   "source": [
    "import pandas as pd\n",
    "import seaborn as sns\n",
    "from pgmpy.estimators import HillClimbSearch, BicScore, MaximumLikelihoodEstimator\n",
    "from pgmpy.models import BayesianNetwork\n",
    "from pgmpy.inference import VariableElimination\n",
    "\n",
    "\n"
   ]
  },
  {
   "cell_type": "markdown",
   "metadata": {},
   "source": [
    "# Load Data"
   ]
  },
  {
   "cell_type": "code",
   "execution_count": 3,
   "metadata": {},
   "outputs": [
    {
     "name": "stdout",
     "output_type": "stream",
     "text": [
      "   survived  pclass     sex   age  sibsp  parch     fare embarked  class  \\\n",
      "0         0       3    male  22.0      1      0   7.2500        S  Third   \n",
      "1         1       1  female  38.0      1      0  71.2833        C  First   \n",
      "2         1       3  female  26.0      0      0   7.9250        S  Third   \n",
      "3         1       1  female  35.0      1      0  53.1000        S  First   \n",
      "4         0       3    male  35.0      0      0   8.0500        S  Third   \n",
      "\n",
      "     who  adult_male deck  embark_town alive  alone  \n",
      "0    man        True  NaN  Southampton    no  False  \n",
      "1  woman       False    C    Cherbourg   yes  False  \n",
      "2  woman       False  NaN  Southampton   yes   True  \n",
      "3  woman       False    C  Southampton   yes  False  \n",
      "4    man        True  NaN  Southampton    no   True  \n",
      "\n",
      " ############ \n",
      "\n",
      "<class 'pandas.core.frame.DataFrame'>\n",
      "RangeIndex: 891 entries, 0 to 890\n",
      "Data columns (total 15 columns):\n",
      " #   Column       Non-Null Count  Dtype   \n",
      "---  ------       --------------  -----   \n",
      " 0   survived     891 non-null    int64   \n",
      " 1   pclass       891 non-null    int64   \n",
      " 2   sex          891 non-null    object  \n",
      " 3   age          714 non-null    float64 \n",
      " 4   sibsp        891 non-null    int64   \n",
      " 5   parch        891 non-null    int64   \n",
      " 6   fare         891 non-null    float64 \n",
      " 7   embarked     889 non-null    object  \n",
      " 8   class        891 non-null    category\n",
      " 9   who          891 non-null    object  \n",
      " 10  adult_male   891 non-null    bool    \n",
      " 11  deck         203 non-null    category\n",
      " 12  embark_town  889 non-null    object  \n",
      " 13  alive        891 non-null    object  \n",
      " 14  alone        891 non-null    bool    \n",
      "dtypes: bool(2), category(2), float64(2), int64(4), object(5)\n",
      "memory usage: 80.7+ KB\n",
      "None\n"
     ]
    }
   ],
   "source": [
    "# Load the Titanic dataset\n",
    "data = sns.load_dataset('titanic')\n",
    "print(data.head())\n",
    "print(\"\\n ############ \\n\")\n",
    "print(data.info())\n"
   ]
  },
  {
   "cell_type": "raw",
   "metadata": {},
   "source": [
    "# Description\n",
    "survival\tSurvival\t0 = No, 1 = Yes\n",
    "pclass\tTicket class\t1 = 1st, 2 = 2nd, 3 = 3rd\n",
    "sex\tSex\t\n",
    "Age\tAge in years\t\n",
    "sibsp\t# of siblings / spouses aboard the Titanic\t\n",
    "parch\t# of parents / children aboard the Titanic\t\n",
    "ticket\tTicket number\t\n",
    "fare\tPassenger fare\t\n",
    "cabin\tCabin number\t\n",
    "embarked\tPort of Embarkation\tC = Cherbourg, Q = Queenstown, S = Southampton"
   ]
  },
  {
   "cell_type": "markdown",
   "metadata": {},
   "source": [
    "# Preprocessing the data"
   ]
  },
  {
   "cell_type": "code",
   "execution_count": 4,
   "metadata": {},
   "outputs": [],
   "source": [
    "\n",
    "# Select relevant columns and drop rows with missing values\n",
    "data = data[['survived', 'pclass', 'sex', 'age', 'fare', 'embarked']].dropna()\n",
    "\n",
    "# Encode categorical variables\n",
    "data['sex'] = data['sex'].map({'male': 0, 'female': 1})\n",
    "data['embarked'] = data['embarked'].map({'S': 0, 'C': 1, 'Q': 2})\n",
    "\n",
    "# Discretize 'age' and 'fare' into bins\n",
    "data['age'] = pd.cut(data['age'], bins=3, labels=[0, 1, 2])  # Age groups: young, middle, older\n",
    "data['fare'] = pd.cut(data['fare'], bins=3, labels=[0, 1, 2])  # Fare groups: low, medium, high\n",
    "\n",
    "\n"
   ]
  },
  {
   "cell_type": "markdown",
   "metadata": {},
   "source": [
    "# Structure learning\n",
    "\n",
    "BIC (Bayesian Information Criterion):\n",
    "\n",
    "The BIC score evaluates the fit of the Bayesian Network structure to the data, penalizing more complex structures (i.e., those with more edges) to prevent overfitting. Lower BIC values indicate a better model.\n",
    "\n",
    "Hill climbing tries different possible structures, adjusting edges to maximize the BIC score iteratively until it converges on a local maximum (i.e., the best structure it can find).\n",
    "\n",
    "Output: best_model will store the estimated structure, which includes nodes (variables) and edges (dependencies between variables) that form the Bayesian Network."
   ]
  },
  {
   "cell_type": "code",
   "execution_count": 7,
   "metadata": {},
   "outputs": [
    {
     "data": {
      "application/vnd.jupyter.widget-view+json": {
       "model_id": "8ef9ee0197cc45d68b5a137ac4b231c9",
       "version_major": 2,
       "version_minor": 0
      },
      "text/plain": [
       "HBox(children=(HTML(value=''), FloatProgress(value=0.0, max=1000000.0), HTML(value='')))"
      ]
     },
     "metadata": {},
     "output_type": "display_data"
    },
    {
     "name": "stdout",
     "output_type": "stream",
     "text": [
      "\n",
      "Learned structure (edges):\n",
      "[('survived', 'sex'), ('pclass', 'survived'), ('pclass', 'embarked'), ('pclass', 'age'), ('pclass', 'sex'), ('fare', 'pclass')]\n"
     ]
    }
   ],
   "source": [
    "# Structure learning\n",
    "hc = HillClimbSearch(data)\n",
    "best_model = hc.estimate(scoring_method=BicScore(data))\n",
    "\n",
    "# Print the learned structure\n",
    "print(\"Learned structure (edges):\")\n",
    "print(best_model.edges())\n",
    "\n",
    "\n"
   ]
  },
  {
   "cell_type": "code",
   "execution_count": 11,
   "metadata": {},
   "outputs": [
    {
     "name": "stdout",
     "output_type": "stream",
     "text": [
      "\n",
      "Learned CPDs:\n",
      "+-------------+---------------------+--------------------+---------------------+\n",
      "| pclass      | pclass(1)           | pclass(2)          | pclass(3)           |\n",
      "+-------------+---------------------+--------------------+---------------------+\n",
      "| survived(0) | 0.34782608695652173 | 0.5202312138728323 | 0.7605633802816901  |\n",
      "+-------------+---------------------+--------------------+---------------------+\n",
      "| survived(1) | 0.6521739130434783  | 0.4797687861271676 | 0.23943661971830985 |\n",
      "+-------------+---------------------+--------------------+---------------------+\n",
      "+----------+-------------+-----+--------------------+\n",
      "| pclass   | pclass(1)   | ... | pclass(3)          |\n",
      "+----------+-------------+-----+--------------------+\n",
      "| survived | survived(0) | ... | survived(1)        |\n",
      "+----------+-------------+-----+--------------------+\n",
      "| sex(0)   | 0.953125    | ... | 0.4470588235294118 |\n",
      "+----------+-------------+-----+--------------------+\n",
      "| sex(1)   | 0.046875    | ... | 0.5529411764705883 |\n",
      "+----------+-------------+-----+--------------------+\n",
      "+-----------+---------------------+---------+---------+\n",
      "| fare      | fare(0)             | fare(1) | fare(2) |\n",
      "+-----------+---------------------+---------+---------+\n",
      "| pclass(1) | 0.23919308357348704 | 1.0     | 1.0     |\n",
      "+-----------+---------------------+---------+---------+\n",
      "| pclass(2) | 0.24927953890489912 | 0.0     | 0.0     |\n",
      "+-----------+---------------------+---------+---------+\n",
      "| pclass(3) | 0.5115273775216138  | 0.0     | 0.0     |\n",
      "+-----------+---------------------+---------+---------+\n",
      "+-------------+-----+---------------------+\n",
      "| pclass      | ... | pclass(3)           |\n",
      "+-------------+-----+---------------------+\n",
      "| embarked(0) | ... | 0.8169014084507042  |\n",
      "+-------------+-----+---------------------+\n",
      "| embarked(1) | ... | 0.11549295774647887 |\n",
      "+-------------+-----+---------------------+\n",
      "| embarked(2) | ... | 0.0676056338028169  |\n",
      "+-------------+-----+---------------------+\n",
      "+--------+---------------------+---------------------+---------------------+\n",
      "| pclass | pclass(1)           | pclass(2)           | pclass(3)           |\n",
      "+--------+---------------------+---------------------+---------------------+\n",
      "| age(0) | 0.2391304347826087  | 0.3872832369942196  | 0.5859154929577465  |\n",
      "+--------+---------------------+---------------------+---------------------+\n",
      "| age(1) | 0.5978260869565217  | 0.5433526011560693  | 0.39436619718309857 |\n",
      "+--------+---------------------+---------------------+---------------------+\n",
      "| age(2) | 0.16304347826086957 | 0.06936416184971098 | 0.01971830985915493 |\n",
      "+--------+---------------------+---------------------+---------------------+\n",
      "+---------+------------+\n",
      "| fare(0) | 0.974719   |\n",
      "+---------+------------+\n",
      "| fare(1) | 0.0210674  |\n",
      "+---------+------------+\n",
      "| fare(2) | 0.00421348 |\n",
      "+---------+------------+\n"
     ]
    }
   ],
   "source": [
    "# Parameter learning\n",
    "model = BayesianNetwork(best_model.edges())\n",
    "model.fit(data, estimator=MaximumLikelihoodEstimator)\n",
    "\n",
    "# Print the learned CPDs\n",
    "print(\"\\nLearned CPDs:\")\n",
    "for cpd in model.get_cpds():\n",
    "    print(cpd)\n"
   ]
  },
  {
   "cell_type": "code",
   "execution_count": 26,
   "metadata": {},
   "outputs": [
    {
     "name": "stdout",
     "output_type": "stream",
     "text": [
      "\n",
      "Probability of survival given pclass=1 and sex=female:\n",
      "+-------------+-----------------+\n",
      "| survived    |   phi(survived) |\n",
      "+=============+=================+\n",
      "| survived(0) |          0.0361 |\n",
      "+-------------+-----------------+\n",
      "| survived(1) |          0.9639 |\n",
      "+-------------+-----------------+\n",
      "\n",
      "Probability of survival given pclass=3 and sex=male:\n",
      "+-------------+-----------------+\n",
      "| survived    |   phi(survived) |\n",
      "+=============+=================+\n",
      "| survived(0) |          0.8498 |\n",
      "+-------------+-----------------+\n",
      "| survived(1) |          0.1502 |\n",
      "+-------------+-----------------+\n"
     ]
    }
   ],
   "source": [
    "# Perform inference\n",
    "inference = VariableElimination(model)\n",
    "query_result = inference.query(variables=['survived'], evidence={'pclass': 1, 'sex': 1}) # Rose\n",
    "print(\"\\nProbability of survival given pclass=1 and sex=female:\")\n",
    "print(query_result)\n",
    "\n",
    "query_result = inference.query(variables=['survived'], evidence={'pclass': 3, 'sex':0}) # Jack\n",
    "print(\"\\nProbability of survival given pclass=3 and sex=male:\")\n",
    "print(query_result)"
   ]
  },
  {
   "cell_type": "code",
   "execution_count": 30,
   "metadata": {},
   "outputs": [
    {
     "name": "stdout",
     "output_type": "stream",
     "text": [
      "\n",
      "Probability of survival given pclass=1 and sex=female:\n",
      "+-------------+-----------------+\n",
      "| survived    |   phi(survived) |\n",
      "+=============+=================+\n",
      "| survived(0) |          0.8214 |\n",
      "+-------------+-----------------+\n",
      "| survived(1) |          0.1786 |\n",
      "+-------------+-----------------+\n",
      "\n",
      "Probability of survival given pclass=3 and sex=male:\n",
      "+-------------+-----------------+\n",
      "| survived    |   phi(survived) |\n",
      "+=============+=================+\n",
      "| survived(0) |          0.2471 |\n",
      "+-------------+-----------------+\n",
      "| survived(1) |          0.7529 |\n",
      "+-------------+-----------------+\n"
     ]
    }
   ],
   "source": [
    "# Perform inference\n",
    "inference = VariableElimination(model)\n",
    "query_result = inference.query(variables=['survived'], evidence={'age': 0, 'sex': 0}) # Rose\n",
    "print(\"\\nProbability of survival given pclass=1 and sex=female:\")\n",
    "print(query_result)\n",
    "\n",
    "query_result = inference.query(variables=['survived'], evidence={ 'sex':1}) # Jack\n",
    "print(\"\\nProbability of survival given pclass=3 and sex=male:\")\n",
    "print(query_result)"
   ]
  },
  {
   "cell_type": "code",
   "execution_count": null,
   "metadata": {},
   "outputs": [],
   "source": []
  },
  {
   "cell_type": "code",
   "execution_count": null,
   "metadata": {},
   "outputs": [],
   "source": []
  },
  {
   "cell_type": "code",
   "execution_count": null,
   "metadata": {},
   "outputs": [],
   "source": []
  }
 ],
 "metadata": {
  "kernelspec": {
   "display_name": "Python 3",
   "language": "python",
   "name": "python3"
  },
  "language_info": {
   "codemirror_mode": {
    "name": "ipython",
    "version": 3
   },
   "file_extension": ".py",
   "mimetype": "text/x-python",
   "name": "python",
   "nbconvert_exporter": "python",
   "pygments_lexer": "ipython3",
   "version": "3.7.9"
  }
 },
 "nbformat": 4,
 "nbformat_minor": 4
}
