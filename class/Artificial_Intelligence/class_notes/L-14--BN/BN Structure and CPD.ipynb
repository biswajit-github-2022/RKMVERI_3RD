{
 "cells": [
  {
   "cell_type": "code",
   "execution_count": 6,
   "metadata": {},
   "outputs": [
    {
     "data": {
      "application/vnd.jupyter.widget-view+json": {
       "model_id": "bb41f6b7a0f14f1f9c01ac3cc4a82172",
       "version_major": 2,
       "version_minor": 0
      },
      "text/plain": [
       "HBox(children=(HTML(value=''), FloatProgress(value=0.0, max=1000000.0), HTML(value='')))"
      ]
     },
     "metadata": {},
     "output_type": "display_data"
    },
    {
     "name": "stdout",
     "output_type": "stream",
     "text": [
      "\n",
      "Learned Structure Edges: [('Burglary', 'Alarm'), ('Earthquake', 'Alarm'), ('Alarm', 'MaryCalls'), ('MaryCalls', 'JohnCalls')]\n",
      "CPD of Burglary:\n",
      "+-------------+-----+\n",
      "| Burglary(0) | 0.5 |\n",
      "+-------------+-----+\n",
      "| Burglary(1) | 0.5 |\n",
      "+-------------+-----+\n",
      "\n",
      "CPD of Alarm:\n",
      "+------------+---------------+---------------+---------------+---------------+\n",
      "| Burglary   | Burglary(0)   | Burglary(0)   | Burglary(1)   | Burglary(1)   |\n",
      "+------------+---------------+---------------+---------------+---------------+\n",
      "| Earthquake | Earthquake(0) | Earthquake(1) | Earthquake(0) | Earthquake(1) |\n",
      "+------------+---------------+---------------+---------------+---------------+\n",
      "| Alarm(0)   | 1.0           | 0.0           | 0.0           | 0.0           |\n",
      "+------------+---------------+---------------+---------------+---------------+\n",
      "| Alarm(1)   | 0.0           | 1.0           | 1.0           | 1.0           |\n",
      "+------------+---------------+---------------+---------------+---------------+\n",
      "\n",
      "CPD of Earthquake:\n",
      "+---------------+-----+\n",
      "| Earthquake(0) | 0.5 |\n",
      "+---------------+-----+\n",
      "| Earthquake(1) | 0.5 |\n",
      "+---------------+-----+\n",
      "\n",
      "CPD of MaryCalls:\n",
      "+--------------+----------+----------+\n",
      "| Alarm        | Alarm(0) | Alarm(1) |\n",
      "+--------------+----------+----------+\n",
      "| MaryCalls(0) | 0.0      | 0.5      |\n",
      "+--------------+----------+----------+\n",
      "| MaryCalls(1) | 1.0      | 0.5      |\n",
      "+--------------+----------+----------+\n",
      "\n",
      "CPD of JohnCalls:\n",
      "+--------------+--------------+--------------+\n",
      "| MaryCalls    | MaryCalls(0) | MaryCalls(1) |\n",
      "+--------------+--------------+--------------+\n",
      "| JohnCalls(0) | 0.0          | 0.6          |\n",
      "+--------------+--------------+--------------+\n",
      "| JohnCalls(1) | 1.0          | 0.4          |\n",
      "+--------------+--------------+--------------+\n",
      "\n"
     ]
    }
   ],
   "source": [
    "import pandas as pd\n",
    "from pgmpy.estimators import HillClimbSearch, BicScore, MaximumLikelihoodEstimator\n",
    "from pgmpy.models import BayesianNetwork\n",
    "\n",
    "# Create a synthetic dataset (example data)\n",
    "data = pd.DataFrame(data={\n",
    "    'Burglary': [0, 1, 0, 1, 0, 1, 0, 1],\n",
    "    'Earthquake': [0, 0, 1, 1, 0, 0, 1, 1],\n",
    "    'Alarm': [0, 1, 1, 1, 0, 1, 1, 1],\n",
    "    'JohnCalls': [0, 1, 0, 1, 1, 0, 1, 1],\n",
    "    'MaryCalls': [1, 0, 1, 0, 1, 1, 0, 1]\n",
    "})\n",
    "\n",
    "\n",
    "\n",
    "# Step 1: Structure Learning using Hill Climb Search with BIC Score\n",
    "hc = HillClimbSearch(data)\n",
    "best_model = hc.estimate(scoring_method=BicScore(data))\n",
    "\n",
    "print(\"Learned Structure Edges:\", best_model.edges())\n",
    "\n",
    "\n",
    "# Step 2: Parameter Learning using MLE\n",
    "model = BayesianNetwork(best_model.edges())\n",
    "model.fit(data, estimator=MaximumLikelihoodEstimator)\n",
    "\n",
    "# Display the learned CPDs\n",
    "for cpd in model.get_cpds():\n",
    "    print(f\"CPD of {cpd.variable}:\\n{cpd}\\n\")\n"
   ]
  },
  {
   "cell_type": "code",
   "execution_count": null,
   "metadata": {},
   "outputs": [],
   "source": []
  },
  {
   "cell_type": "code",
   "execution_count": null,
   "metadata": {},
   "outputs": [],
   "source": []
  }
 ],
 "metadata": {
  "kernelspec": {
   "display_name": "Python 3",
   "language": "python",
   "name": "python3"
  },
  "language_info": {
   "codemirror_mode": {
    "name": "ipython",
    "version": 3
   },
   "file_extension": ".py",
   "mimetype": "text/x-python",
   "name": "python",
   "nbconvert_exporter": "python",
   "pygments_lexer": "ipython3",
   "version": "3.7.9"
  }
 },
 "nbformat": 4,
 "nbformat_minor": 4
}
